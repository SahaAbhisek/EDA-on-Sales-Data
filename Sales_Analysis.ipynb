{
 "cells": [
  {
   "cell_type": "markdown",
   "metadata": {},
   "source": [
    "## Sales Data Analysis\n",
    "#### For details: https://www.youtube.com/watch?v=eMOA1pPVUc4"
   ]
  },
  {
   "cell_type": "code",
   "execution_count": 1,
   "metadata": {
    "scrolled": true
   },
   "outputs": [
    {
     "name": "stdout",
     "output_type": "stream",
     "text": [
      "Sales_Analysis.ipynb  Sales_Data\r\n"
     ]
    }
   ],
   "source": [
    "!ls"
   ]
  },
  {
   "cell_type": "code",
   "execution_count": 1,
   "metadata": {},
   "outputs": [],
   "source": [
    "import os\n",
    "import pandas as pd\n",
    "import numpy as np"
   ]
  },
  {
   "cell_type": "code",
   "execution_count": 2,
   "metadata": {},
   "outputs": [],
   "source": [
    "df1 = pd.read_csv('Sales_Data/Sales_April_2019.csv')\n",
    "df2 = pd.read_csv('Sales_Data/Sales_May_2019.csv')\n",
    "df = pd.concat([df1,df2])"
   ]
  },
  {
   "cell_type": "code",
   "execution_count": 3,
   "metadata": {},
   "outputs": [
    {
     "data": {
      "text/plain": [
       "((18383, 6), (16635, 6), (35018, 6))"
      ]
     },
     "execution_count": 3,
     "metadata": {},
     "output_type": "execute_result"
    }
   ],
   "source": [
    "df1.shape, df2.shape, df.shape"
   ]
  },
  {
   "cell_type": "code",
   "execution_count": 4,
   "metadata": {},
   "outputs": [],
   "source": [
    "data = pd.DataFrame()\n",
    "lines = 0\n",
    "for f in os.listdir('Sales_Data/'):\n",
    "    df = pd.read_csv('Sales_Data/'+f)\n",
    "    lines += df.shape[0]\n",
    "    data = pd.concat([data, df])"
   ]
  },
  {
   "cell_type": "code",
   "execution_count": 5,
   "metadata": {},
   "outputs": [
    {
     "data": {
      "text/html": [
       "<div><div id=497ed2ff-9de1-4ffc-9102-37c2c598bd10 style=\"display:none; background-color:#9D6CFF; color:white; width:200px; height:30px; padding-left:5px; border-radius:4px; flex-direction:row; justify-content:space-around; align-items:center;\" onmouseover=\"this.style.backgroundColor='#BA9BF8'\" onmouseout=\"this.style.backgroundColor='#9D6CFF'\" onclick=\"window.commands?.execute('create-mitosheet-from-dataframe-output');\">See Full Dataframe in Mito</div> <script> if (window.commands.hasCommand('create-mitosheet-from-dataframe-output')) document.getElementById('497ed2ff-9de1-4ffc-9102-37c2c598bd10').style.display = 'flex' </script> <table border=\"1\" class=\"dataframe\">\n",
       "  <thead>\n",
       "    <tr style=\"text-align: right;\">\n",
       "      <th></th>\n",
       "      <th>Order ID</th>\n",
       "      <th>Product</th>\n",
       "      <th>Quantity Ordered</th>\n",
       "      <th>Price Each</th>\n",
       "      <th>Order Date</th>\n",
       "      <th>Purchase Address</th>\n",
       "    </tr>\n",
       "  </thead>\n",
       "  <tbody>\n",
       "    <tr>\n",
       "      <th>0</th>\n",
       "      <td>150502</td>\n",
       "      <td>iPhone</td>\n",
       "      <td>1</td>\n",
       "      <td>700</td>\n",
       "      <td>02/18/19 01:35</td>\n",
       "      <td>866 Spruce St, Portland, ME 04101</td>\n",
       "    </tr>\n",
       "    <tr>\n",
       "      <th>1</th>\n",
       "      <td>150503</td>\n",
       "      <td>AA Batteries (4-pack)</td>\n",
       "      <td>1</td>\n",
       "      <td>3.84</td>\n",
       "      <td>02/13/19 07:24</td>\n",
       "      <td>18 13th St, San Francisco, CA 94016</td>\n",
       "    </tr>\n",
       "    <tr>\n",
       "      <th>2</th>\n",
       "      <td>150504</td>\n",
       "      <td>27in 4K Gaming Monitor</td>\n",
       "      <td>1</td>\n",
       "      <td>389.99</td>\n",
       "      <td>02/18/19 09:46</td>\n",
       "      <td>52 6th St, New York City, NY 10001</td>\n",
       "    </tr>\n",
       "    <tr>\n",
       "      <th>3</th>\n",
       "      <td>150505</td>\n",
       "      <td>Lightning Charging Cable</td>\n",
       "      <td>1</td>\n",
       "      <td>14.95</td>\n",
       "      <td>02/02/19 16:47</td>\n",
       "      <td>129 Cherry St, Atlanta, GA 30301</td>\n",
       "    </tr>\n",
       "    <tr>\n",
       "      <th>4</th>\n",
       "      <td>150506</td>\n",
       "      <td>AA Batteries (4-pack)</td>\n",
       "      <td>2</td>\n",
       "      <td>3.84</td>\n",
       "      <td>02/28/19 20:32</td>\n",
       "      <td>548 Lincoln St, Seattle, WA 98101</td>\n",
       "    </tr>\n",
       "  </tbody>\n",
       "</table></div>"
      ],
      "text/plain": [
       "  Order ID                   Product Quantity Ordered Price Each  \\\n",
       "0   150502                    iPhone                1        700   \n",
       "1   150503     AA Batteries (4-pack)                1       3.84   \n",
       "2   150504    27in 4K Gaming Monitor                1     389.99   \n",
       "3   150505  Lightning Charging Cable                1      14.95   \n",
       "4   150506     AA Batteries (4-pack)                2       3.84   \n",
       "\n",
       "       Order Date                     Purchase Address  \n",
       "0  02/18/19 01:35    866 Spruce St, Portland, ME 04101  \n",
       "1  02/13/19 07:24  18 13th St, San Francisco, CA 94016  \n",
       "2  02/18/19 09:46   52 6th St, New York City, NY 10001  \n",
       "3  02/02/19 16:47     129 Cherry St, Atlanta, GA 30301  \n",
       "4  02/28/19 20:32    548 Lincoln St, Seattle, WA 98101  "
      ]
     },
     "execution_count": 5,
     "metadata": {},
     "output_type": "execute_result"
    }
   ],
   "source": [
    "data.head()"
   ]
  },
  {
   "cell_type": "code",
   "execution_count": 6,
   "metadata": {},
   "outputs": [
    {
     "data": {
      "text/plain": [
       "((186850, 6), 186850)"
      ]
     },
     "execution_count": 6,
     "metadata": {},
     "output_type": "execute_result"
    }
   ],
   "source": [
    "data.shape, lines"
   ]
  },
  {
   "cell_type": "markdown",
   "metadata": {},
   "source": [
    "### create sales month column"
   ]
  },
  {
   "cell_type": "markdown",
   "metadata": {},
   "source": [
    "#### Cleaning Dataset"
   ]
  },
  {
   "cell_type": "code",
   "execution_count": 7,
   "metadata": {},
   "outputs": [],
   "source": [
    "data = data.rename(columns={'Order ID':'ID', 'Quantity Ordered': 'Quantity_Ordered', 'Price Each':'Price_Each',\n",
    "                    'Order Date':'Order_Date', 'Purchase Address':'Address'})"
   ]
  },
  {
   "cell_type": "code",
   "execution_count": 8,
   "metadata": {},
   "outputs": [
    {
     "data": {
      "text/plain": [
       "ID                  545\n",
       "Product             545\n",
       "Quantity_Ordered    545\n",
       "Price_Each          545\n",
       "Order_Date          545\n",
       "Address             545\n",
       "dtype: int64"
      ]
     },
     "execution_count": 8,
     "metadata": {},
     "output_type": "execute_result"
    }
   ],
   "source": [
    "data.isnull().sum()"
   ]
  },
  {
   "cell_type": "code",
   "execution_count": 9,
   "metadata": {},
   "outputs": [],
   "source": [
    "data.dropna(axis=0, inplace=True)"
   ]
  },
  {
   "cell_type": "code",
   "execution_count": 10,
   "metadata": {},
   "outputs": [
    {
     "data": {
      "text/plain": [
       "(ID                  0\n",
       " Product             0\n",
       " Quantity_Ordered    0\n",
       " Price_Each          0\n",
       " Order_Date          0\n",
       " Address             0\n",
       " dtype: int64, (186305, 6))"
      ]
     },
     "execution_count": 10,
     "metadata": {},
     "output_type": "execute_result"
    }
   ],
   "source": [
    "data.isna().sum(), data.shape"
   ]
  },
  {
   "cell_type": "code",
   "execution_count": 11,
   "metadata": {},
   "outputs": [
    {
     "data": {
      "text/html": [
       "<div><div id=0d39aeef-5c05-4879-8717-0f84779de43b style=\"display:none; background-color:#9D6CFF; color:white; width:200px; height:30px; padding-left:5px; border-radius:4px; flex-direction:row; justify-content:space-around; align-items:center;\" onmouseover=\"this.style.backgroundColor='#BA9BF8'\" onmouseout=\"this.style.backgroundColor='#9D6CFF'\" onclick=\"window.commands?.execute('create-mitosheet-from-dataframe-output');\">See Full Dataframe in Mito</div> <script> if (window.commands.hasCommand('create-mitosheet-from-dataframe-output')) document.getElementById('0d39aeef-5c05-4879-8717-0f84779de43b').style.display = 'flex' </script> <table border=\"1\" class=\"dataframe\">\n",
       "  <thead>\n",
       "    <tr style=\"text-align: right;\">\n",
       "      <th></th>\n",
       "      <th>ID</th>\n",
       "      <th>Product</th>\n",
       "      <th>Quantity_Ordered</th>\n",
       "      <th>Price_Each</th>\n",
       "      <th>Order_Date</th>\n",
       "      <th>Address</th>\n",
       "    </tr>\n",
       "  </thead>\n",
       "  <tbody>\n",
       "    <tr>\n",
       "      <th>1483</th>\n",
       "      <td>Order ID</td>\n",
       "      <td>Product</td>\n",
       "      <td>Quantity Ordered</td>\n",
       "      <td>Price Each</td>\n",
       "      <td>Order Date</td>\n",
       "      <td>Purchase Address</td>\n",
       "    </tr>\n",
       "    <tr>\n",
       "      <th>1904</th>\n",
       "      <td>Order ID</td>\n",
       "      <td>Product</td>\n",
       "      <td>Quantity Ordered</td>\n",
       "      <td>Price Each</td>\n",
       "      <td>Order Date</td>\n",
       "      <td>Purchase Address</td>\n",
       "    </tr>\n",
       "    <tr>\n",
       "      <th>2050</th>\n",
       "      <td>Order ID</td>\n",
       "      <td>Product</td>\n",
       "      <td>Quantity Ordered</td>\n",
       "      <td>Price Each</td>\n",
       "      <td>Order Date</td>\n",
       "      <td>Purchase Address</td>\n",
       "    </tr>\n",
       "    <tr>\n",
       "      <th>2225</th>\n",
       "      <td>Order ID</td>\n",
       "      <td>Product</td>\n",
       "      <td>Quantity Ordered</td>\n",
       "      <td>Price Each</td>\n",
       "      <td>Order Date</td>\n",
       "      <td>Purchase Address</td>\n",
       "    </tr>\n",
       "    <tr>\n",
       "      <th>3091</th>\n",
       "      <td>Order ID</td>\n",
       "      <td>Product</td>\n",
       "      <td>Quantity Ordered</td>\n",
       "      <td>Price Each</td>\n",
       "      <td>Order Date</td>\n",
       "      <td>Purchase Address</td>\n",
       "    </tr>\n",
       "    <tr>\n",
       "      <th>...</th>\n",
       "      <td>...</td>\n",
       "      <td>...</td>\n",
       "      <td>...</td>\n",
       "      <td>...</td>\n",
       "      <td>...</td>\n",
       "      <td>...</td>\n",
       "    </tr>\n",
       "    <tr>\n",
       "      <th>10000</th>\n",
       "      <td>Order ID</td>\n",
       "      <td>Product</td>\n",
       "      <td>Quantity Ordered</td>\n",
       "      <td>Price Each</td>\n",
       "      <td>Order Date</td>\n",
       "      <td>Purchase Address</td>\n",
       "    </tr>\n",
       "    <tr>\n",
       "      <th>10387</th>\n",
       "      <td>Order ID</td>\n",
       "      <td>Product</td>\n",
       "      <td>Quantity Ordered</td>\n",
       "      <td>Price Each</td>\n",
       "      <td>Order Date</td>\n",
       "      <td>Purchase Address</td>\n",
       "    </tr>\n",
       "    <tr>\n",
       "      <th>11399</th>\n",
       "      <td>Order ID</td>\n",
       "      <td>Product</td>\n",
       "      <td>Quantity Ordered</td>\n",
       "      <td>Price Each</td>\n",
       "      <td>Order Date</td>\n",
       "      <td>Purchase Address</td>\n",
       "    </tr>\n",
       "    <tr>\n",
       "      <th>11468</th>\n",
       "      <td>Order ID</td>\n",
       "      <td>Product</td>\n",
       "      <td>Quantity Ordered</td>\n",
       "      <td>Price Each</td>\n",
       "      <td>Order Date</td>\n",
       "      <td>Purchase Address</td>\n",
       "    </tr>\n",
       "    <tr>\n",
       "      <th>11574</th>\n",
       "      <td>Order ID</td>\n",
       "      <td>Product</td>\n",
       "      <td>Quantity Ordered</td>\n",
       "      <td>Price Each</td>\n",
       "      <td>Order Date</td>\n",
       "      <td>Purchase Address</td>\n",
       "    </tr>\n",
       "  </tbody>\n",
       "</table></div>"
      ],
      "text/plain": [
       "             ID  Product  Quantity_Ordered  Price_Each  Order_Date  \\\n",
       "1483   Order ID  Product  Quantity Ordered  Price Each  Order Date   \n",
       "1904   Order ID  Product  Quantity Ordered  Price Each  Order Date   \n",
       "2050   Order ID  Product  Quantity Ordered  Price Each  Order Date   \n",
       "2225   Order ID  Product  Quantity Ordered  Price Each  Order Date   \n",
       "3091   Order ID  Product  Quantity Ordered  Price Each  Order Date   \n",
       "...         ...      ...               ...         ...         ...   \n",
       "10000  Order ID  Product  Quantity Ordered  Price Each  Order Date   \n",
       "10387  Order ID  Product  Quantity Ordered  Price Each  Order Date   \n",
       "11399  Order ID  Product  Quantity Ordered  Price Each  Order Date   \n",
       "11468  Order ID  Product  Quantity Ordered  Price Each  Order Date   \n",
       "11574  Order ID  Product  Quantity Ordered  Price Each  Order Date   \n",
       "\n",
       "                Address  \n",
       "1483   Purchase Address  \n",
       "1904   Purchase Address  \n",
       "2050   Purchase Address  \n",
       "2225   Purchase Address  \n",
       "3091   Purchase Address  \n",
       "...                 ...  \n",
       "10000  Purchase Address  \n",
       "10387  Purchase Address  \n",
       "11399  Purchase Address  \n",
       "11468  Purchase Address  \n",
       "11574  Purchase Address  \n",
       "\n",
       "[355 rows x 6 columns]"
      ]
     },
     "execution_count": 11,
     "metadata": {},
     "output_type": "execute_result"
    }
   ],
   "source": [
    "data[data['Order_Date']=='Order Date']"
   ]
  },
  {
   "cell_type": "code",
   "execution_count": 12,
   "metadata": {},
   "outputs": [],
   "source": [
    "data = data[data['Order_Date']!='Order Date']"
   ]
  },
  {
   "cell_type": "code",
   "execution_count": 13,
   "metadata": {},
   "outputs": [
    {
     "data": {
      "text/plain": [
       "(185950, 6)"
      ]
     },
     "execution_count": 13,
     "metadata": {},
     "output_type": "execute_result"
    }
   ],
   "source": [
    "data.shape"
   ]
  },
  {
   "cell_type": "code",
   "execution_count": 14,
   "metadata": {},
   "outputs": [
    {
     "data": {
      "text/html": [
       "<div><div id=328008f9-f183-4897-947a-21c3a303d67e style=\"display:none; background-color:#9D6CFF; color:white; width:200px; height:30px; padding-left:5px; border-radius:4px; flex-direction:row; justify-content:space-around; align-items:center;\" onmouseover=\"this.style.backgroundColor='#BA9BF8'\" onmouseout=\"this.style.backgroundColor='#9D6CFF'\" onclick=\"window.commands?.execute('create-mitosheet-from-dataframe-output');\">See Full Dataframe in Mito</div> <script> if (window.commands.hasCommand('create-mitosheet-from-dataframe-output')) document.getElementById('328008f9-f183-4897-947a-21c3a303d67e').style.display = 'flex' </script> <table border=\"1\" class=\"dataframe\">\n",
       "  <thead>\n",
       "    <tr style=\"text-align: right;\">\n",
       "      <th></th>\n",
       "      <th>ID</th>\n",
       "      <th>Product</th>\n",
       "      <th>Quantity_Ordered</th>\n",
       "      <th>Price_Each</th>\n",
       "      <th>Order_Date</th>\n",
       "      <th>Address</th>\n",
       "    </tr>\n",
       "  </thead>\n",
       "  <tbody>\n",
       "    <tr>\n",
       "      <th>0</th>\n",
       "      <td>150502</td>\n",
       "      <td>iPhone</td>\n",
       "      <td>1</td>\n",
       "      <td>700</td>\n",
       "      <td>2019-02-18 01:35:00</td>\n",
       "      <td>866 Spruce St, Portland, ME 04101</td>\n",
       "    </tr>\n",
       "    <tr>\n",
       "      <th>1</th>\n",
       "      <td>150503</td>\n",
       "      <td>AA Batteries (4-pack)</td>\n",
       "      <td>1</td>\n",
       "      <td>3.84</td>\n",
       "      <td>2019-02-13 07:24:00</td>\n",
       "      <td>18 13th St, San Francisco, CA 94016</td>\n",
       "    </tr>\n",
       "    <tr>\n",
       "      <th>2</th>\n",
       "      <td>150504</td>\n",
       "      <td>27in 4K Gaming Monitor</td>\n",
       "      <td>1</td>\n",
       "      <td>389.99</td>\n",
       "      <td>2019-02-18 09:46:00</td>\n",
       "      <td>52 6th St, New York City, NY 10001</td>\n",
       "    </tr>\n",
       "    <tr>\n",
       "      <th>3</th>\n",
       "      <td>150505</td>\n",
       "      <td>Lightning Charging Cable</td>\n",
       "      <td>1</td>\n",
       "      <td>14.95</td>\n",
       "      <td>2019-02-02 16:47:00</td>\n",
       "      <td>129 Cherry St, Atlanta, GA 30301</td>\n",
       "    </tr>\n",
       "    <tr>\n",
       "      <th>4</th>\n",
       "      <td>150506</td>\n",
       "      <td>AA Batteries (4-pack)</td>\n",
       "      <td>2</td>\n",
       "      <td>3.84</td>\n",
       "      <td>2019-02-28 20:32:00</td>\n",
       "      <td>548 Lincoln St, Seattle, WA 98101</td>\n",
       "    </tr>\n",
       "  </tbody>\n",
       "</table></div>"
      ],
      "text/plain": [
       "       ID                   Product Quantity_Ordered Price_Each  \\\n",
       "0  150502                    iPhone                1        700   \n",
       "1  150503     AA Batteries (4-pack)                1       3.84   \n",
       "2  150504    27in 4K Gaming Monitor                1     389.99   \n",
       "3  150505  Lightning Charging Cable                1      14.95   \n",
       "4  150506     AA Batteries (4-pack)                2       3.84   \n",
       "\n",
       "           Order_Date                              Address  \n",
       "0 2019-02-18 01:35:00    866 Spruce St, Portland, ME 04101  \n",
       "1 2019-02-13 07:24:00  18 13th St, San Francisco, CA 94016  \n",
       "2 2019-02-18 09:46:00   52 6th St, New York City, NY 10001  \n",
       "3 2019-02-02 16:47:00     129 Cherry St, Atlanta, GA 30301  \n",
       "4 2019-02-28 20:32:00    548 Lincoln St, Seattle, WA 98101  "
      ]
     },
     "execution_count": 14,
     "metadata": {},
     "output_type": "execute_result"
    }
   ],
   "source": [
    "data['Order_Date'] = pd.to_datetime(data['Order_Date'])\n",
    "data.head()"
   ]
  },
  {
   "cell_type": "code",
   "execution_count": 15,
   "metadata": {},
   "outputs": [
    {
     "data": {
      "text/html": [
       "<div><div id=1a32b0b2-4e41-4b7e-806b-002f7a8af346 style=\"display:none; background-color:#9D6CFF; color:white; width:200px; height:30px; padding-left:5px; border-radius:4px; flex-direction:row; justify-content:space-around; align-items:center;\" onmouseover=\"this.style.backgroundColor='#BA9BF8'\" onmouseout=\"this.style.backgroundColor='#9D6CFF'\" onclick=\"window.commands?.execute('create-mitosheet-from-dataframe-output');\">See Full Dataframe in Mito</div> <script> if (window.commands.hasCommand('create-mitosheet-from-dataframe-output')) document.getElementById('1a32b0b2-4e41-4b7e-806b-002f7a8af346').style.display = 'flex' </script> <table border=\"1\" class=\"dataframe\">\n",
       "  <thead>\n",
       "    <tr style=\"text-align: right;\">\n",
       "      <th></th>\n",
       "      <th>ID</th>\n",
       "      <th>Product</th>\n",
       "      <th>Quantity_Ordered</th>\n",
       "      <th>Price_Each</th>\n",
       "      <th>Order_Date</th>\n",
       "      <th>Address</th>\n",
       "    </tr>\n",
       "  </thead>\n",
       "  <tbody>\n",
       "    <tr>\n",
       "      <th>11681</th>\n",
       "      <td>259353</td>\n",
       "      <td>AAA Batteries (4-pack)</td>\n",
       "      <td>3</td>\n",
       "      <td>2.99</td>\n",
       "      <td>2019-09-17 20:56:00</td>\n",
       "      <td>840 Highland St, Los Angeles, CA 90001</td>\n",
       "    </tr>\n",
       "    <tr>\n",
       "      <th>11682</th>\n",
       "      <td>259354</td>\n",
       "      <td>iPhone</td>\n",
       "      <td>1</td>\n",
       "      <td>700</td>\n",
       "      <td>2019-09-01 16:00:00</td>\n",
       "      <td>216 Dogwood St, San Francisco, CA 94016</td>\n",
       "    </tr>\n",
       "    <tr>\n",
       "      <th>11683</th>\n",
       "      <td>259355</td>\n",
       "      <td>iPhone</td>\n",
       "      <td>1</td>\n",
       "      <td>700</td>\n",
       "      <td>2019-09-23 07:39:00</td>\n",
       "      <td>220 12th St, San Francisco, CA 94016</td>\n",
       "    </tr>\n",
       "    <tr>\n",
       "      <th>11684</th>\n",
       "      <td>259356</td>\n",
       "      <td>34in Ultrawide Monitor</td>\n",
       "      <td>1</td>\n",
       "      <td>379.99</td>\n",
       "      <td>2019-09-19 17:30:00</td>\n",
       "      <td>511 Forest St, San Francisco, CA 94016</td>\n",
       "    </tr>\n",
       "    <tr>\n",
       "      <th>11685</th>\n",
       "      <td>259357</td>\n",
       "      <td>USB-C Charging Cable</td>\n",
       "      <td>1</td>\n",
       "      <td>11.95</td>\n",
       "      <td>2019-09-30 00:18:00</td>\n",
       "      <td>250 Meadow St, San Francisco, CA 94016</td>\n",
       "    </tr>\n",
       "  </tbody>\n",
       "</table></div>"
      ],
      "text/plain": [
       "           ID                 Product Quantity_Ordered Price_Each  \\\n",
       "11681  259353  AAA Batteries (4-pack)                3       2.99   \n",
       "11682  259354                  iPhone                1        700   \n",
       "11683  259355                  iPhone                1        700   \n",
       "11684  259356  34in Ultrawide Monitor                1     379.99   \n",
       "11685  259357    USB-C Charging Cable                1      11.95   \n",
       "\n",
       "               Order_Date                                  Address  \n",
       "11681 2019-09-17 20:56:00   840 Highland St, Los Angeles, CA 90001  \n",
       "11682 2019-09-01 16:00:00  216 Dogwood St, San Francisco, CA 94016  \n",
       "11683 2019-09-23 07:39:00     220 12th St, San Francisco, CA 94016  \n",
       "11684 2019-09-19 17:30:00   511 Forest St, San Francisco, CA 94016  \n",
       "11685 2019-09-30 00:18:00   250 Meadow St, San Francisco, CA 94016  "
      ]
     },
     "execution_count": 15,
     "metadata": {},
     "output_type": "execute_result"
    }
   ],
   "source": [
    "data.tail()"
   ]
  },
  {
   "cell_type": "code",
   "execution_count": 16,
   "metadata": {},
   "outputs": [],
   "source": [
    "data['Sale_Month'] = data['Order_Date'].dt.month"
   ]
  },
  {
   "cell_type": "code",
   "execution_count": 17,
   "metadata": {},
   "outputs": [
    {
     "data": {
      "text/html": [
       "<div><div id=b615cc78-a162-496e-86f5-2eb68799a2d9 style=\"display:none; background-color:#9D6CFF; color:white; width:200px; height:30px; padding-left:5px; border-radius:4px; flex-direction:row; justify-content:space-around; align-items:center;\" onmouseover=\"this.style.backgroundColor='#BA9BF8'\" onmouseout=\"this.style.backgroundColor='#9D6CFF'\" onclick=\"window.commands?.execute('create-mitosheet-from-dataframe-output');\">See Full Dataframe in Mito</div> <script> if (window.commands.hasCommand('create-mitosheet-from-dataframe-output')) document.getElementById('b615cc78-a162-496e-86f5-2eb68799a2d9').style.display = 'flex' </script> <table border=\"1\" class=\"dataframe\">\n",
       "  <thead>\n",
       "    <tr style=\"text-align: right;\">\n",
       "      <th></th>\n",
       "      <th>ID</th>\n",
       "      <th>Product</th>\n",
       "      <th>Quantity_Ordered</th>\n",
       "      <th>Price_Each</th>\n",
       "      <th>Order_Date</th>\n",
       "      <th>Address</th>\n",
       "      <th>Sale_Month</th>\n",
       "    </tr>\n",
       "  </thead>\n",
       "  <tbody>\n",
       "    <tr>\n",
       "      <th>0</th>\n",
       "      <td>150502</td>\n",
       "      <td>iPhone</td>\n",
       "      <td>1</td>\n",
       "      <td>700</td>\n",
       "      <td>2019-02-18 01:35:00</td>\n",
       "      <td>866 Spruce St, Portland, ME 04101</td>\n",
       "      <td>2</td>\n",
       "    </tr>\n",
       "    <tr>\n",
       "      <th>1</th>\n",
       "      <td>150503</td>\n",
       "      <td>AA Batteries (4-pack)</td>\n",
       "      <td>1</td>\n",
       "      <td>3.84</td>\n",
       "      <td>2019-02-13 07:24:00</td>\n",
       "      <td>18 13th St, San Francisco, CA 94016</td>\n",
       "      <td>2</td>\n",
       "    </tr>\n",
       "    <tr>\n",
       "      <th>2</th>\n",
       "      <td>150504</td>\n",
       "      <td>27in 4K Gaming Monitor</td>\n",
       "      <td>1</td>\n",
       "      <td>389.99</td>\n",
       "      <td>2019-02-18 09:46:00</td>\n",
       "      <td>52 6th St, New York City, NY 10001</td>\n",
       "      <td>2</td>\n",
       "    </tr>\n",
       "    <tr>\n",
       "      <th>3</th>\n",
       "      <td>150505</td>\n",
       "      <td>Lightning Charging Cable</td>\n",
       "      <td>1</td>\n",
       "      <td>14.95</td>\n",
       "      <td>2019-02-02 16:47:00</td>\n",
       "      <td>129 Cherry St, Atlanta, GA 30301</td>\n",
       "      <td>2</td>\n",
       "    </tr>\n",
       "    <tr>\n",
       "      <th>4</th>\n",
       "      <td>150506</td>\n",
       "      <td>AA Batteries (4-pack)</td>\n",
       "      <td>2</td>\n",
       "      <td>3.84</td>\n",
       "      <td>2019-02-28 20:32:00</td>\n",
       "      <td>548 Lincoln St, Seattle, WA 98101</td>\n",
       "      <td>2</td>\n",
       "    </tr>\n",
       "  </tbody>\n",
       "</table></div>"
      ],
      "text/plain": [
       "       ID                   Product Quantity_Ordered Price_Each  \\\n",
       "0  150502                    iPhone                1        700   \n",
       "1  150503     AA Batteries (4-pack)                1       3.84   \n",
       "2  150504    27in 4K Gaming Monitor                1     389.99   \n",
       "3  150505  Lightning Charging Cable                1      14.95   \n",
       "4  150506     AA Batteries (4-pack)                2       3.84   \n",
       "\n",
       "           Order_Date                              Address  Sale_Month  \n",
       "0 2019-02-18 01:35:00    866 Spruce St, Portland, ME 04101           2  \n",
       "1 2019-02-13 07:24:00  18 13th St, San Francisco, CA 94016           2  \n",
       "2 2019-02-18 09:46:00   52 6th St, New York City, NY 10001           2  \n",
       "3 2019-02-02 16:47:00     129 Cherry St, Atlanta, GA 30301           2  \n",
       "4 2019-02-28 20:32:00    548 Lincoln St, Seattle, WA 98101           2  "
      ]
     },
     "execution_count": 17,
     "metadata": {},
     "output_type": "execute_result"
    }
   ],
   "source": [
    "data.head()"
   ]
  },
  {
   "cell_type": "code",
   "execution_count": 18,
   "metadata": {},
   "outputs": [
    {
     "data": {
      "text/plain": [
       "(12,)"
      ]
     },
     "execution_count": 18,
     "metadata": {},
     "output_type": "execute_result"
    }
   ],
   "source": [
    "data['Sale_Month'].unique().shape"
   ]
  },
  {
   "cell_type": "markdown",
   "metadata": {},
   "source": [
    "### Add Total Price column"
   ]
  },
  {
   "cell_type": "code",
   "execution_count": 19,
   "metadata": {},
   "outputs": [
    {
     "name": "stdout",
     "output_type": "stream",
     "text": [
      "<class 'pandas.core.frame.DataFrame'>\n",
      "Int64Index: 185950 entries, 0 to 11685\n",
      "Data columns (total 7 columns):\n",
      " #   Column            Non-Null Count   Dtype         \n",
      "---  ------            --------------   -----         \n",
      " 0   ID                185950 non-null  object        \n",
      " 1   Product           185950 non-null  object        \n",
      " 2   Quantity_Ordered  185950 non-null  object        \n",
      " 3   Price_Each        185950 non-null  object        \n",
      " 4   Order_Date        185950 non-null  datetime64[ns]\n",
      " 5   Address           185950 non-null  object        \n",
      " 6   Sale_Month        185950 non-null  int64         \n",
      "dtypes: datetime64[ns](1), int64(1), object(5)\n",
      "memory usage: 11.3+ MB\n"
     ]
    }
   ],
   "source": [
    "data.info()"
   ]
  },
  {
   "cell_type": "code",
   "execution_count": 20,
   "metadata": {},
   "outputs": [
    {
     "name": "stdout",
     "output_type": "stream",
     "text": [
      "<class 'pandas.core.frame.DataFrame'>\n",
      "Int64Index: 185950 entries, 0 to 11685\n",
      "Data columns (total 7 columns):\n",
      " #   Column            Non-Null Count   Dtype         \n",
      "---  ------            --------------   -----         \n",
      " 0   ID                185950 non-null  object        \n",
      " 1   Product           185950 non-null  object        \n",
      " 2   Quantity_Ordered  185950 non-null  int64         \n",
      " 3   Price_Each        185950 non-null  float64       \n",
      " 4   Order_Date        185950 non-null  datetime64[ns]\n",
      " 5   Address           185950 non-null  object        \n",
      " 6   Sale_Month        185950 non-null  int64         \n",
      "dtypes: datetime64[ns](1), float64(1), int64(2), object(3)\n",
      "memory usage: 11.3+ MB\n"
     ]
    }
   ],
   "source": [
    "# Transforming Quantity_Ordered and Price_Each to numeric\n",
    "data['Quantity_Ordered'] = pd.to_numeric(data['Quantity_Ordered'])\n",
    "data['Price_Each'] = pd.to_numeric(data['Price_Each'])\n",
    "data.info()"
   ]
  },
  {
   "cell_type": "code",
   "execution_count": 21,
   "metadata": {
    "scrolled": true
   },
   "outputs": [
    {
     "data": {
      "text/html": [
       "<div><div id=0d2ff4ca-c826-44fd-87c7-d954f5a50b7c style=\"display:none; background-color:#9D6CFF; color:white; width:200px; height:30px; padding-left:5px; border-radius:4px; flex-direction:row; justify-content:space-around; align-items:center;\" onmouseover=\"this.style.backgroundColor='#BA9BF8'\" onmouseout=\"this.style.backgroundColor='#9D6CFF'\" onclick=\"window.commands?.execute('create-mitosheet-from-dataframe-output');\">See Full Dataframe in Mito</div> <script> if (window.commands.hasCommand('create-mitosheet-from-dataframe-output')) document.getElementById('0d2ff4ca-c826-44fd-87c7-d954f5a50b7c').style.display = 'flex' </script> <table border=\"1\" class=\"dataframe\">\n",
       "  <thead>\n",
       "    <tr style=\"text-align: right;\">\n",
       "      <th></th>\n",
       "      <th>ID</th>\n",
       "      <th>Product</th>\n",
       "      <th>Quantity_Ordered</th>\n",
       "      <th>Price_Each</th>\n",
       "      <th>Order_Date</th>\n",
       "      <th>Address</th>\n",
       "      <th>Sale_Month</th>\n",
       "      <th>Total_Price</th>\n",
       "    </tr>\n",
       "  </thead>\n",
       "  <tbody>\n",
       "    <tr>\n",
       "      <th>0</th>\n",
       "      <td>150502</td>\n",
       "      <td>iPhone</td>\n",
       "      <td>1</td>\n",
       "      <td>700.00</td>\n",
       "      <td>2019-02-18 01:35:00</td>\n",
       "      <td>866 Spruce St, Portland, ME 04101</td>\n",
       "      <td>2</td>\n",
       "      <td>700.00</td>\n",
       "    </tr>\n",
       "    <tr>\n",
       "      <th>1</th>\n",
       "      <td>150503</td>\n",
       "      <td>AA Batteries (4-pack)</td>\n",
       "      <td>1</td>\n",
       "      <td>3.84</td>\n",
       "      <td>2019-02-13 07:24:00</td>\n",
       "      <td>18 13th St, San Francisco, CA 94016</td>\n",
       "      <td>2</td>\n",
       "      <td>3.84</td>\n",
       "    </tr>\n",
       "    <tr>\n",
       "      <th>2</th>\n",
       "      <td>150504</td>\n",
       "      <td>27in 4K Gaming Monitor</td>\n",
       "      <td>1</td>\n",
       "      <td>389.99</td>\n",
       "      <td>2019-02-18 09:46:00</td>\n",
       "      <td>52 6th St, New York City, NY 10001</td>\n",
       "      <td>2</td>\n",
       "      <td>389.99</td>\n",
       "    </tr>\n",
       "    <tr>\n",
       "      <th>3</th>\n",
       "      <td>150505</td>\n",
       "      <td>Lightning Charging Cable</td>\n",
       "      <td>1</td>\n",
       "      <td>14.95</td>\n",
       "      <td>2019-02-02 16:47:00</td>\n",
       "      <td>129 Cherry St, Atlanta, GA 30301</td>\n",
       "      <td>2</td>\n",
       "      <td>14.95</td>\n",
       "    </tr>\n",
       "    <tr>\n",
       "      <th>4</th>\n",
       "      <td>150506</td>\n",
       "      <td>AA Batteries (4-pack)</td>\n",
       "      <td>2</td>\n",
       "      <td>3.84</td>\n",
       "      <td>2019-02-28 20:32:00</td>\n",
       "      <td>548 Lincoln St, Seattle, WA 98101</td>\n",
       "      <td>2</td>\n",
       "      <td>7.68</td>\n",
       "    </tr>\n",
       "  </tbody>\n",
       "</table></div>"
      ],
      "text/plain": [
       "       ID                   Product  Quantity_Ordered  Price_Each  \\\n",
       "0  150502                    iPhone                 1      700.00   \n",
       "1  150503     AA Batteries (4-pack)                 1        3.84   \n",
       "2  150504    27in 4K Gaming Monitor                 1      389.99   \n",
       "3  150505  Lightning Charging Cable                 1       14.95   \n",
       "4  150506     AA Batteries (4-pack)                 2        3.84   \n",
       "\n",
       "           Order_Date                              Address  Sale_Month  \\\n",
       "0 2019-02-18 01:35:00    866 Spruce St, Portland, ME 04101           2   \n",
       "1 2019-02-13 07:24:00  18 13th St, San Francisco, CA 94016           2   \n",
       "2 2019-02-18 09:46:00   52 6th St, New York City, NY 10001           2   \n",
       "3 2019-02-02 16:47:00     129 Cherry St, Atlanta, GA 30301           2   \n",
       "4 2019-02-28 20:32:00    548 Lincoln St, Seattle, WA 98101           2   \n",
       "\n",
       "   Total_Price  \n",
       "0       700.00  \n",
       "1         3.84  \n",
       "2       389.99  \n",
       "3        14.95  \n",
       "4         7.68  "
      ]
     },
     "execution_count": 21,
     "metadata": {},
     "output_type": "execute_result"
    }
   ],
   "source": [
    "data['Total_Price'] = data['Quantity_Ordered'] * data['Price_Each']\n",
    "data.head()"
   ]
  },
  {
   "cell_type": "markdown",
   "metadata": {},
   "source": [
    "## Q1. Which month has the best sales record"
   ]
  },
  {
   "cell_type": "code",
   "execution_count": 22,
   "metadata": {},
   "outputs": [
    {
     "data": {
      "text/html": [
       "<div><div id=d810c75e-b594-42c3-8240-b85072939e70 style=\"display:none; background-color:#9D6CFF; color:white; width:200px; height:30px; padding-left:5px; border-radius:4px; flex-direction:row; justify-content:space-around; align-items:center;\" onmouseover=\"this.style.backgroundColor='#BA9BF8'\" onmouseout=\"this.style.backgroundColor='#9D6CFF'\" onclick=\"window.commands?.execute('create-mitosheet-from-dataframe-output');\">See Full Dataframe in Mito</div> <script> if (window.commands.hasCommand('create-mitosheet-from-dataframe-output')) document.getElementById('d810c75e-b594-42c3-8240-b85072939e70').style.display = 'flex' </script> <table border=\"1\" class=\"dataframe\">\n",
       "  <thead>\n",
       "    <tr style=\"text-align: right;\">\n",
       "      <th></th>\n",
       "      <th>Sale_Month</th>\n",
       "      <th>Total_Price</th>\n",
       "      <th>Month</th>\n",
       "    </tr>\n",
       "  </thead>\n",
       "  <tbody>\n",
       "    <tr>\n",
       "      <th>0</th>\n",
       "      <td>1</td>\n",
       "      <td>1.822257e+06</td>\n",
       "      <td>Jan</td>\n",
       "    </tr>\n",
       "    <tr>\n",
       "      <th>1</th>\n",
       "      <td>2</td>\n",
       "      <td>2.202022e+06</td>\n",
       "      <td>Feb</td>\n",
       "    </tr>\n",
       "    <tr>\n",
       "      <th>2</th>\n",
       "      <td>3</td>\n",
       "      <td>2.807100e+06</td>\n",
       "      <td>Mar</td>\n",
       "    </tr>\n",
       "    <tr>\n",
       "      <th>3</th>\n",
       "      <td>4</td>\n",
       "      <td>3.390670e+06</td>\n",
       "      <td>Apr</td>\n",
       "    </tr>\n",
       "    <tr>\n",
       "      <th>4</th>\n",
       "      <td>5</td>\n",
       "      <td>3.152607e+06</td>\n",
       "      <td>May</td>\n",
       "    </tr>\n",
       "    <tr>\n",
       "      <th>...</th>\n",
       "      <td>...</td>\n",
       "      <td>...</td>\n",
       "      <td>...</td>\n",
       "    </tr>\n",
       "    <tr>\n",
       "      <th>7</th>\n",
       "      <td>8</td>\n",
       "      <td>2.244468e+06</td>\n",
       "      <td>Aug</td>\n",
       "    </tr>\n",
       "    <tr>\n",
       "      <th>8</th>\n",
       "      <td>9</td>\n",
       "      <td>2.097560e+06</td>\n",
       "      <td>Sep</td>\n",
       "    </tr>\n",
       "    <tr>\n",
       "      <th>9</th>\n",
       "      <td>10</td>\n",
       "      <td>3.736727e+06</td>\n",
       "      <td>Oct</td>\n",
       "    </tr>\n",
       "    <tr>\n",
       "      <th>10</th>\n",
       "      <td>11</td>\n",
       "      <td>3.199603e+06</td>\n",
       "      <td>Nov</td>\n",
       "    </tr>\n",
       "    <tr>\n",
       "      <th>11</th>\n",
       "      <td>12</td>\n",
       "      <td>4.613443e+06</td>\n",
       "      <td>Dec</td>\n",
       "    </tr>\n",
       "  </tbody>\n",
       "</table></div>"
      ],
      "text/plain": [
       "    Sale_Month   Total_Price Month\n",
       "0            1  1.822257e+06   Jan\n",
       "1            2  2.202022e+06   Feb\n",
       "2            3  2.807100e+06   Mar\n",
       "3            4  3.390670e+06   Apr\n",
       "4            5  3.152607e+06   May\n",
       "5            6  2.577802e+06   Jun\n",
       "6            7  2.647776e+06   Jul\n",
       "7            8  2.244468e+06   Aug\n",
       "8            9  2.097560e+06   Sep\n",
       "9           10  3.736727e+06   Oct\n",
       "10          11  3.199603e+06   Nov\n",
       "11          12  4.613443e+06   Dec"
      ]
     },
     "execution_count": 22,
     "metadata": {},
     "output_type": "execute_result"
    }
   ],
   "source": [
    "monthwise_sale = data.groupby('Sale_Month', as_index=False)['Total_Price'].sum()\n",
    "\n",
    "import calendar\n",
    "monthwise_sale['Month'] = monthwise_sale['Sale_Month'].apply(lambda x: calendar.month_abbr[x])\n",
    "monthwise_sale"
   ]
  },
  {
   "cell_type": "code",
   "execution_count": 23,
   "metadata": {},
   "outputs": [],
   "source": [
    "import matplotlib.pyplot as plt\n",
    "import seaborn as sns"
   ]
  },
  {
   "cell_type": "code",
   "execution_count": 24,
   "metadata": {},
   "outputs": [
    {
     "data": {
      "image/png": "[encoded data removed]",
      "text/plain": [
       "<Figure size 576x360 with 1 Axes>"
      ]
     },
     "metadata": {},
     "output_type": "display_data"
    }
   ],
   "source": [
    "sns.set_theme(style='darkgrid')\n",
    "plt.figure(figsize=(8,5))\n",
    "sns.barplot(x=monthwise_sale['Month'], y=monthwise_sale['Total_Price'])\n",
    "plt.xlabel(\"Months\", fontweight='bold')\n",
    "plt.ylabel(\"Total Sales\", fontweight='bold')\n",
    "plt.show()"
   ]
  },
  {
   "cell_type": "markdown",
   "metadata": {},
   "source": [
    " December month has the highest sales may be due to holidays and offers"
   ]
  },
  {
   "cell_type": "markdown",
   "metadata": {},
   "source": [
    "## Question #2: What city sold the most product?"
   ]
  },
  {
   "cell_type": "code",
   "execution_count": 25,
   "metadata": {},
   "outputs": [
    {
     "data": {
      "text/plain": [
       "'ME'"
      ]
     },
     "execution_count": 25,
     "metadata": {},
     "output_type": "execute_result"
    }
   ],
   "source": [
    "msg = '866 Spruce St, Portland, ME 0410'\n",
    "txt = msg.split(',')[-1]\n",
    "txt.split(' ')[-2]\n",
    "#txt.apply(lambda x: x[-1].split(' '))"
   ]
  },
  {
   "cell_type": "code",
   "execution_count": 26,
   "metadata": {},
   "outputs": [],
   "source": [
    "def get_city(address):\n",
    "    city = address.split(',')[-2]\n",
    "    txt = address.split(',')[-1]\n",
    "    state = txt.split(' ')[-2]\n",
    "    return_text = city + ' ' + state\n",
    "    return return_text\n",
    "    "
   ]
  },
  {
   "cell_type": "code",
   "execution_count": 27,
   "metadata": {},
   "outputs": [
    {
     "data": {
      "text/plain": [
       "0              Portland ME\n",
       "1         San Francisco CA\n",
       "2         New York City NY\n",
       "3               Atlanta GA\n",
       "4               Seattle WA\n",
       "               ...        \n",
       "11681       Los Angeles CA\n",
       "11682     San Francisco CA\n",
       "11683     San Francisco CA\n",
       "11684     San Francisco CA\n",
       "11685     San Francisco CA\n",
       "Name: Address, Length: 185950, dtype: object"
      ]
     },
     "execution_count": 27,
     "metadata": {},
     "output_type": "execute_result"
    }
   ],
   "source": [
    "data['Address'].apply(lambda x: get_city(x))"
   ]
  },
  {
   "cell_type": "code",
   "execution_count": 28,
   "metadata": {},
   "outputs": [],
   "source": [
    "data['City'] = data['Address'].apply(lambda x: get_city(x))"
   ]
  },
  {
   "cell_type": "code",
   "execution_count": 29,
   "metadata": {},
   "outputs": [
    {
     "data": {
      "text/html": [
       "<div><div id=09ded8cd-99eb-4a14-bf93-37f6e239be18 style=\"display:none; background-color:#9D6CFF; color:white; width:200px; height:30px; padding-left:5px; border-radius:4px; flex-direction:row; justify-content:space-around; align-items:center;\" onmouseover=\"this.style.backgroundColor='#BA9BF8'\" onmouseout=\"this.style.backgroundColor='#9D6CFF'\" onclick=\"window.commands?.execute('create-mitosheet-from-dataframe-output');\">See Full Dataframe in Mito</div> <script> if (window.commands.hasCommand('create-mitosheet-from-dataframe-output')) document.getElementById('09ded8cd-99eb-4a14-bf93-37f6e239be18').style.display = 'flex' </script> <table border=\"1\" class=\"dataframe\">\n",
       "  <thead>\n",
       "    <tr style=\"text-align: right;\">\n",
       "      <th></th>\n",
       "      <th>ID</th>\n",
       "      <th>Product</th>\n",
       "      <th>Quantity_Ordered</th>\n",
       "      <th>Price_Each</th>\n",
       "      <th>Order_Date</th>\n",
       "      <th>Address</th>\n",
       "      <th>Sale_Month</th>\n",
       "      <th>Total_Price</th>\n",
       "      <th>City</th>\n",
       "    </tr>\n",
       "  </thead>\n",
       "  <tbody>\n",
       "    <tr>\n",
       "      <th>0</th>\n",
       "      <td>150502</td>\n",
       "      <td>iPhone</td>\n",
       "      <td>1</td>\n",
       "      <td>700.00</td>\n",
       "      <td>2019-02-18 01:35:00</td>\n",
       "      <td>866 Spruce St, Portland, ME 04101</td>\n",
       "      <td>2</td>\n",
       "      <td>700.00</td>\n",
       "      <td>Portland ME</td>\n",
       "    </tr>\n",
       "    <tr>\n",
       "      <th>1</th>\n",
       "      <td>150503</td>\n",
       "      <td>AA Batteries (4-pack)</td>\n",
       "      <td>1</td>\n",
       "      <td>3.84</td>\n",
       "      <td>2019-02-13 07:24:00</td>\n",
       "      <td>18 13th St, San Francisco, CA 94016</td>\n",
       "      <td>2</td>\n",
       "      <td>3.84</td>\n",
       "      <td>San Francisco CA</td>\n",
       "    </tr>\n",
       "    <tr>\n",
       "      <th>2</th>\n",
       "      <td>150504</td>\n",
       "      <td>27in 4K Gaming Monitor</td>\n",
       "      <td>1</td>\n",
       "      <td>389.99</td>\n",
       "      <td>2019-02-18 09:46:00</td>\n",
       "      <td>52 6th St, New York City, NY 10001</td>\n",
       "      <td>2</td>\n",
       "      <td>389.99</td>\n",
       "      <td>New York City NY</td>\n",
       "    </tr>\n",
       "    <tr>\n",
       "      <th>3</th>\n",
       "      <td>150505</td>\n",
       "      <td>Lightning Charging Cable</td>\n",
       "      <td>1</td>\n",
       "      <td>14.95</td>\n",
       "      <td>2019-02-02 16:47:00</td>\n",
       "      <td>129 Cherry St, Atlanta, GA 30301</td>\n",
       "      <td>2</td>\n",
       "      <td>14.95</td>\n",
       "      <td>Atlanta GA</td>\n",
       "    </tr>\n",
       "    <tr>\n",
       "      <th>4</th>\n",
       "      <td>150506</td>\n",
       "      <td>AA Batteries (4-pack)</td>\n",
       "      <td>2</td>\n",
       "      <td>3.84</td>\n",
       "      <td>2019-02-28 20:32:00</td>\n",
       "      <td>548 Lincoln St, Seattle, WA 98101</td>\n",
       "      <td>2</td>\n",
       "      <td>7.68</td>\n",
       "      <td>Seattle WA</td>\n",
       "    </tr>\n",
       "  </tbody>\n",
       "</table></div>"
      ],
      "text/plain": [
       "       ID                   Product  Quantity_Ordered  Price_Each  \\\n",
       "0  150502                    iPhone                 1      700.00   \n",
       "1  150503     AA Batteries (4-pack)                 1        3.84   \n",
       "2  150504    27in 4K Gaming Monitor                 1      389.99   \n",
       "3  150505  Lightning Charging Cable                 1       14.95   \n",
       "4  150506     AA Batteries (4-pack)                 2        3.84   \n",
       "\n",
       "           Order_Date                              Address  Sale_Month  \\\n",
       "0 2019-02-18 01:35:00    866 Spruce St, Portland, ME 04101           2   \n",
       "1 2019-02-13 07:24:00  18 13th St, San Francisco, CA 94016           2   \n",
       "2 2019-02-18 09:46:00   52 6th St, New York City, NY 10001           2   \n",
       "3 2019-02-02 16:47:00     129 Cherry St, Atlanta, GA 30301           2   \n",
       "4 2019-02-28 20:32:00    548 Lincoln St, Seattle, WA 98101           2   \n",
       "\n",
       "   Total_Price               City  \n",
       "0       700.00        Portland ME  \n",
       "1         3.84   San Francisco CA  \n",
       "2       389.99   New York City NY  \n",
       "3        14.95         Atlanta GA  \n",
       "4         7.68         Seattle WA  "
      ]
     },
     "execution_count": 29,
     "metadata": {},
     "output_type": "execute_result"
    }
   ],
   "source": [
    "data.head()"
   ]
  },
  {
   "cell_type": "code",
   "execution_count": 30,
   "metadata": {},
   "outputs": [
    {
     "data": {
      "text/html": [
       "<div><div id=5edc6bea-7a2e-4475-b694-78d7ff1e2a00 style=\"display:none; background-color:#9D6CFF; color:white; width:200px; height:30px; padding-left:5px; border-radius:4px; flex-direction:row; justify-content:space-around; align-items:center;\" onmouseover=\"this.style.backgroundColor='#BA9BF8'\" onmouseout=\"this.style.backgroundColor='#9D6CFF'\" onclick=\"window.commands?.execute('create-mitosheet-from-dataframe-output');\">See Full Dataframe in Mito</div> <script> if (window.commands.hasCommand('create-mitosheet-from-dataframe-output')) document.getElementById('5edc6bea-7a2e-4475-b694-78d7ff1e2a00').style.display = 'flex' </script> <table border=\"1\" class=\"dataframe\">\n",
       "  <thead>\n",
       "    <tr style=\"text-align: right;\">\n",
       "      <th></th>\n",
       "      <th>City</th>\n",
       "      <th>Total_Price</th>\n",
       "    </tr>\n",
       "  </thead>\n",
       "  <tbody>\n",
       "    <tr>\n",
       "      <th>0</th>\n",
       "      <td>Atlanta GA</td>\n",
       "      <td>2.795499e+06</td>\n",
       "    </tr>\n",
       "    <tr>\n",
       "      <th>1</th>\n",
       "      <td>Austin TX</td>\n",
       "      <td>1.819582e+06</td>\n",
       "    </tr>\n",
       "    <tr>\n",
       "      <th>2</th>\n",
       "      <td>Boston MA</td>\n",
       "      <td>3.661642e+06</td>\n",
       "    </tr>\n",
       "    <tr>\n",
       "      <th>3</th>\n",
       "      <td>Dallas TX</td>\n",
       "      <td>2.767975e+06</td>\n",
       "    </tr>\n",
       "    <tr>\n",
       "      <th>4</th>\n",
       "      <td>Los Angeles CA</td>\n",
       "      <td>5.452571e+06</td>\n",
       "    </tr>\n",
       "    <tr>\n",
       "      <th>5</th>\n",
       "      <td>New York City NY</td>\n",
       "      <td>4.664317e+06</td>\n",
       "    </tr>\n",
       "    <tr>\n",
       "      <th>6</th>\n",
       "      <td>Portland ME</td>\n",
       "      <td>4.497583e+05</td>\n",
       "    </tr>\n",
       "    <tr>\n",
       "      <th>7</th>\n",
       "      <td>Portland OR</td>\n",
       "      <td>1.870732e+06</td>\n",
       "    </tr>\n",
       "    <tr>\n",
       "      <th>8</th>\n",
       "      <td>San Francisco CA</td>\n",
       "      <td>8.262204e+06</td>\n",
       "    </tr>\n",
       "    <tr>\n",
       "      <th>9</th>\n",
       "      <td>Seattle WA</td>\n",
       "      <td>2.747755e+06</td>\n",
       "    </tr>\n",
       "  </tbody>\n",
       "</table></div>"
      ],
      "text/plain": [
       "                City   Total_Price\n",
       "0         Atlanta GA  2.795499e+06\n",
       "1          Austin TX  1.819582e+06\n",
       "2          Boston MA  3.661642e+06\n",
       "3          Dallas TX  2.767975e+06\n",
       "4     Los Angeles CA  5.452571e+06\n",
       "5   New York City NY  4.664317e+06\n",
       "6        Portland ME  4.497583e+05\n",
       "7        Portland OR  1.870732e+06\n",
       "8   San Francisco CA  8.262204e+06\n",
       "9         Seattle WA  2.747755e+06"
      ]
     },
     "execution_count": 30,
     "metadata": {},
     "output_type": "execute_result"
    }
   ],
   "source": [
    "citywise_sale = data.groupby('City',as_index=False)['Total_Price'].sum()\n",
    "#print(\"citywise_sale: \\n\", citywise_sale)\n",
    "citywise_sale"
   ]
  },
  {
   "cell_type": "code",
   "execution_count": 31,
   "metadata": {},
   "outputs": [
    {
     "data": {
      "image/png": "[encoded data removed]",
      "text/plain": [
       "<Figure size 1080x360 with 1 Axes>"
      ]
     },
     "metadata": {},
     "output_type": "display_data"
    }
   ],
   "source": [
    "plt.figure(figsize=(15,5))\n",
    "sns.barplot(x=citywise_sale['City'], y=citywise_sale['Total_Price'])\n",
    "\n",
    "plt.xlabel(\"Cities\", fontweight='bold')\n",
    "plt.ylabel(\"Total Sales\", fontweight='bold')\n",
    "plt.show()"
   ]
  },
  {
   "cell_type": "markdown",
   "metadata": {},
   "source": [
    "## Question #3: What time should we display advertisements to maximize the likelihood of purchases? "
   ]
  },
  {
   "cell_type": "code",
   "execution_count": 32,
   "metadata": {},
   "outputs": [
    {
     "data": {
      "text/html": [
       "<div><div id=8b37644c-3020-4e67-8ce1-0917686bb738 style=\"display:none; background-color:#9D6CFF; color:white; width:200px; height:30px; padding-left:5px; border-radius:4px; flex-direction:row; justify-content:space-around; align-items:center;\" onmouseover=\"this.style.backgroundColor='#BA9BF8'\" onmouseout=\"this.style.backgroundColor='#9D6CFF'\" onclick=\"window.commands?.execute('create-mitosheet-from-dataframe-output');\">See Full Dataframe in Mito</div> <script> if (window.commands.hasCommand('create-mitosheet-from-dataframe-output')) document.getElementById('8b37644c-3020-4e67-8ce1-0917686bb738').style.display = 'flex' </script> <table border=\"1\" class=\"dataframe\">\n",
       "  <thead>\n",
       "    <tr style=\"text-align: right;\">\n",
       "      <th></th>\n",
       "      <th>ID</th>\n",
       "      <th>Product</th>\n",
       "      <th>Quantity_Ordered</th>\n",
       "      <th>Price_Each</th>\n",
       "      <th>Order_Date</th>\n",
       "      <th>Address</th>\n",
       "      <th>Sale_Month</th>\n",
       "      <th>Total_Price</th>\n",
       "      <th>City</th>\n",
       "    </tr>\n",
       "  </thead>\n",
       "  <tbody>\n",
       "    <tr>\n",
       "      <th>0</th>\n",
       "      <td>150502</td>\n",
       "      <td>iPhone</td>\n",
       "      <td>1</td>\n",
       "      <td>700.00</td>\n",
       "      <td>2019-02-18 01:35:00</td>\n",
       "      <td>866 Spruce St, Portland, ME 04101</td>\n",
       "      <td>2</td>\n",
       "      <td>700.00</td>\n",
       "      <td>Portland ME</td>\n",
       "    </tr>\n",
       "    <tr>\n",
       "      <th>1</th>\n",
       "      <td>150503</td>\n",
       "      <td>AA Batteries (4-pack)</td>\n",
       "      <td>1</td>\n",
       "      <td>3.84</td>\n",
       "      <td>2019-02-13 07:24:00</td>\n",
       "      <td>18 13th St, San Francisco, CA 94016</td>\n",
       "      <td>2</td>\n",
       "      <td>3.84</td>\n",
       "      <td>San Francisco CA</td>\n",
       "    </tr>\n",
       "    <tr>\n",
       "      <th>2</th>\n",
       "      <td>150504</td>\n",
       "      <td>27in 4K Gaming Monitor</td>\n",
       "      <td>1</td>\n",
       "      <td>389.99</td>\n",
       "      <td>2019-02-18 09:46:00</td>\n",
       "      <td>52 6th St, New York City, NY 10001</td>\n",
       "      <td>2</td>\n",
       "      <td>389.99</td>\n",
       "      <td>New York City NY</td>\n",
       "    </tr>\n",
       "    <tr>\n",
       "      <th>3</th>\n",
       "      <td>150505</td>\n",
       "      <td>Lightning Charging Cable</td>\n",
       "      <td>1</td>\n",
       "      <td>14.95</td>\n",
       "      <td>2019-02-02 16:47:00</td>\n",
       "      <td>129 Cherry St, Atlanta, GA 30301</td>\n",
       "      <td>2</td>\n",
       "      <td>14.95</td>\n",
       "      <td>Atlanta GA</td>\n",
       "    </tr>\n",
       "    <tr>\n",
       "      <th>4</th>\n",
       "      <td>150506</td>\n",
       "      <td>AA Batteries (4-pack)</td>\n",
       "      <td>2</td>\n",
       "      <td>3.84</td>\n",
       "      <td>2019-02-28 20:32:00</td>\n",
       "      <td>548 Lincoln St, Seattle, WA 98101</td>\n",
       "      <td>2</td>\n",
       "      <td>7.68</td>\n",
       "      <td>Seattle WA</td>\n",
       "    </tr>\n",
       "  </tbody>\n",
       "</table></div>"
      ],
      "text/plain": [
       "       ID                   Product  Quantity_Ordered  Price_Each  \\\n",
       "0  150502                    iPhone                 1      700.00   \n",
       "1  150503     AA Batteries (4-pack)                 1        3.84   \n",
       "2  150504    27in 4K Gaming Monitor                 1      389.99   \n",
       "3  150505  Lightning Charging Cable                 1       14.95   \n",
       "4  150506     AA Batteries (4-pack)                 2        3.84   \n",
       "\n",
       "           Order_Date                              Address  Sale_Month  \\\n",
       "0 2019-02-18 01:35:00    866 Spruce St, Portland, ME 04101           2   \n",
       "1 2019-02-13 07:24:00  18 13th St, San Francisco, CA 94016           2   \n",
       "2 2019-02-18 09:46:00   52 6th St, New York City, NY 10001           2   \n",
       "3 2019-02-02 16:47:00     129 Cherry St, Atlanta, GA 30301           2   \n",
       "4 2019-02-28 20:32:00    548 Lincoln St, Seattle, WA 98101           2   \n",
       "\n",
       "   Total_Price               City  \n",
       "0       700.00        Portland ME  \n",
       "1         3.84   San Francisco CA  \n",
       "2       389.99   New York City NY  \n",
       "3        14.95         Atlanta GA  \n",
       "4         7.68         Seattle WA  "
      ]
     },
     "execution_count": 32,
     "metadata": {},
     "output_type": "execute_result"
    }
   ],
   "source": [
    "data.head()"
   ]
  },
  {
   "cell_type": "code",
   "execution_count": 33,
   "metadata": {},
   "outputs": [],
   "source": [
    "data['Hour'] = data['Order_Date'].dt.hour"
   ]
  },
  {
   "cell_type": "code",
   "execution_count": 34,
   "metadata": {},
   "outputs": [
    {
     "data": {
      "text/html": [
       "<div><div id=cf289117-4ddd-4589-9652-f304a5a51014 style=\"display:none; background-color:#9D6CFF; color:white; width:200px; height:30px; padding-left:5px; border-radius:4px; flex-direction:row; justify-content:space-around; align-items:center;\" onmouseover=\"this.style.backgroundColor='#BA9BF8'\" onmouseout=\"this.style.backgroundColor='#9D6CFF'\" onclick=\"window.commands?.execute('create-mitosheet-from-dataframe-output');\">See Full Dataframe in Mito</div> <script> if (window.commands.hasCommand('create-mitosheet-from-dataframe-output')) document.getElementById('cf289117-4ddd-4589-9652-f304a5a51014').style.display = 'flex' </script> <table border=\"1\" class=\"dataframe\">\n",
       "  <thead>\n",
       "    <tr style=\"text-align: right;\">\n",
       "      <th></th>\n",
       "      <th>ID</th>\n",
       "      <th>Product</th>\n",
       "      <th>Quantity_Ordered</th>\n",
       "      <th>Price_Each</th>\n",
       "      <th>Order_Date</th>\n",
       "      <th>Address</th>\n",
       "      <th>Sale_Month</th>\n",
       "      <th>Total_Price</th>\n",
       "      <th>City</th>\n",
       "      <th>Hour</th>\n",
       "    </tr>\n",
       "  </thead>\n",
       "  <tbody>\n",
       "    <tr>\n",
       "      <th>0</th>\n",
       "      <td>150502</td>\n",
       "      <td>iPhone</td>\n",
       "      <td>1</td>\n",
       "      <td>700.00</td>\n",
       "      <td>2019-02-18 01:35:00</td>\n",
       "      <td>866 Spruce St, Portland, ME 04101</td>\n",
       "      <td>2</td>\n",
       "      <td>700.00</td>\n",
       "      <td>Portland ME</td>\n",
       "      <td>1</td>\n",
       "    </tr>\n",
       "    <tr>\n",
       "      <th>1</th>\n",
       "      <td>150503</td>\n",
       "      <td>AA Batteries (4-pack)</td>\n",
       "      <td>1</td>\n",
       "      <td>3.84</td>\n",
       "      <td>2019-02-13 07:24:00</td>\n",
       "      <td>18 13th St, San Francisco, CA 94016</td>\n",
       "      <td>2</td>\n",
       "      <td>3.84</td>\n",
       "      <td>San Francisco CA</td>\n",
       "      <td>7</td>\n",
       "    </tr>\n",
       "    <tr>\n",
       "      <th>2</th>\n",
       "      <td>150504</td>\n",
       "      <td>27in 4K Gaming Monitor</td>\n",
       "      <td>1</td>\n",
       "      <td>389.99</td>\n",
       "      <td>2019-02-18 09:46:00</td>\n",
       "      <td>52 6th St, New York City, NY 10001</td>\n",
       "      <td>2</td>\n",
       "      <td>389.99</td>\n",
       "      <td>New York City NY</td>\n",
       "      <td>9</td>\n",
       "    </tr>\n",
       "    <tr>\n",
       "      <th>3</th>\n",
       "      <td>150505</td>\n",
       "      <td>Lightning Charging Cable</td>\n",
       "      <td>1</td>\n",
       "      <td>14.95</td>\n",
       "      <td>2019-02-02 16:47:00</td>\n",
       "      <td>129 Cherry St, Atlanta, GA 30301</td>\n",
       "      <td>2</td>\n",
       "      <td>14.95</td>\n",
       "      <td>Atlanta GA</td>\n",
       "      <td>16</td>\n",
       "    </tr>\n",
       "    <tr>\n",
       "      <th>4</th>\n",
       "      <td>150506</td>\n",
       "      <td>AA Batteries (4-pack)</td>\n",
       "      <td>2</td>\n",
       "      <td>3.84</td>\n",
       "      <td>2019-02-28 20:32:00</td>\n",
       "      <td>548 Lincoln St, Seattle, WA 98101</td>\n",
       "      <td>2</td>\n",
       "      <td>7.68</td>\n",
       "      <td>Seattle WA</td>\n",
       "      <td>20</td>\n",
       "    </tr>\n",
       "  </tbody>\n",
       "</table></div>"
      ],
      "text/plain": [
       "       ID                   Product  Quantity_Ordered  Price_Each  \\\n",
       "0  150502                    iPhone                 1      700.00   \n",
       "1  150503     AA Batteries (4-pack)                 1        3.84   \n",
       "2  150504    27in 4K Gaming Monitor                 1      389.99   \n",
       "3  150505  Lightning Charging Cable                 1       14.95   \n",
       "4  150506     AA Batteries (4-pack)                 2        3.84   \n",
       "\n",
       "           Order_Date                              Address  Sale_Month  \\\n",
       "0 2019-02-18 01:35:00    866 Spruce St, Portland, ME 04101           2   \n",
       "1 2019-02-13 07:24:00  18 13th St, San Francisco, CA 94016           2   \n",
       "2 2019-02-18 09:46:00   52 6th St, New York City, NY 10001           2   \n",
       "3 2019-02-02 16:47:00     129 Cherry St, Atlanta, GA 30301           2   \n",
       "4 2019-02-28 20:32:00    548 Lincoln St, Seattle, WA 98101           2   \n",
       "\n",
       "   Total_Price               City  Hour  \n",
       "0       700.00        Portland ME     1  \n",
       "1         3.84   San Francisco CA     7  \n",
       "2       389.99   New York City NY     9  \n",
       "3        14.95         Atlanta GA    16  \n",
       "4         7.68         Seattle WA    20  "
      ]
     },
     "execution_count": 34,
     "metadata": {},
     "output_type": "execute_result"
    }
   ],
   "source": [
    "data.head()"
   ]
  },
  {
   "cell_type": "code",
   "execution_count": 35,
   "metadata": {},
   "outputs": [
    {
     "data": {
      "text/html": [
       "<div><div id=f63517b4-5f4f-42cf-8b38-3fc9792d48d2 style=\"display:none; background-color:#9D6CFF; color:white; width:200px; height:30px; padding-left:5px; border-radius:4px; flex-direction:row; justify-content:space-around; align-items:center;\" onmouseover=\"this.style.backgroundColor='#BA9BF8'\" onmouseout=\"this.style.backgroundColor='#9D6CFF'\" onclick=\"window.commands?.execute('create-mitosheet-from-dataframe-output');\">See Full Dataframe in Mito</div> <script> if (window.commands.hasCommand('create-mitosheet-from-dataframe-output')) document.getElementById('f63517b4-5f4f-42cf-8b38-3fc9792d48d2').style.display = 'flex' </script> <table border=\"1\" class=\"dataframe\">\n",
       "  <thead>\n",
       "    <tr style=\"text-align: right;\">\n",
       "      <th></th>\n",
       "      <th>Hour</th>\n",
       "      <th>Total_Price</th>\n",
       "    </tr>\n",
       "  </thead>\n",
       "  <tbody>\n",
       "    <tr>\n",
       "      <th>0</th>\n",
       "      <td>0</td>\n",
       "      <td>713721.27</td>\n",
       "    </tr>\n",
       "    <tr>\n",
       "      <th>1</th>\n",
       "      <td>1</td>\n",
       "      <td>460866.88</td>\n",
       "    </tr>\n",
       "    <tr>\n",
       "      <th>2</th>\n",
       "      <td>2</td>\n",
       "      <td>234851.44</td>\n",
       "    </tr>\n",
       "    <tr>\n",
       "      <th>3</th>\n",
       "      <td>3</td>\n",
       "      <td>145757.89</td>\n",
       "    </tr>\n",
       "    <tr>\n",
       "      <th>4</th>\n",
       "      <td>4</td>\n",
       "      <td>162661.01</td>\n",
       "    </tr>\n",
       "    <tr>\n",
       "      <th>...</th>\n",
       "      <td>...</td>\n",
       "      <td>...</td>\n",
       "    </tr>\n",
       "    <tr>\n",
       "      <th>19</th>\n",
       "      <td>19</td>\n",
       "      <td>2412938.54</td>\n",
       "    </tr>\n",
       "    <tr>\n",
       "      <th>20</th>\n",
       "      <td>20</td>\n",
       "      <td>2281716.24</td>\n",
       "    </tr>\n",
       "    <tr>\n",
       "      <th>21</th>\n",
       "      <td>21</td>\n",
       "      <td>2042000.86</td>\n",
       "    </tr>\n",
       "    <tr>\n",
       "      <th>22</th>\n",
       "      <td>22</td>\n",
       "      <td>1607549.21</td>\n",
       "    </tr>\n",
       "    <tr>\n",
       "      <th>23</th>\n",
       "      <td>23</td>\n",
       "      <td>1179304.44</td>\n",
       "    </tr>\n",
       "  </tbody>\n",
       "</table></div>"
      ],
      "text/plain": [
       "    Hour  Total_Price\n",
       "0      0    713721.27\n",
       "1      1    460866.88\n",
       "2      2    234851.44\n",
       "3      3    145757.89\n",
       "4      4    162661.01\n",
       "5      5    230679.82\n",
       "6      6    448113.00\n",
       "7      7    744854.12\n",
       "8      8   1192348.97\n",
       "9      9   1639030.58\n",
       "10    10   1944286.77\n",
       "11    11   2300610.24\n",
       "12    12   2316821.34\n",
       "13    13   2155389.80\n",
       "14    14   2083672.73\n",
       "15    15   1941549.60\n",
       "16    16   1904601.31\n",
       "17    17   2129361.61\n",
       "18    18   2219348.30\n",
       "19    19   2412938.54\n",
       "20    20   2281716.24\n",
       "21    21   2042000.86\n",
       "22    22   1607549.21\n",
       "23    23   1179304.44"
      ]
     },
     "execution_count": 35,
     "metadata": {},
     "output_type": "execute_result"
    }
   ],
   "source": [
    "hourwise_sale = data.groupby('Hour', as_index=False)['Total_Price'].sum()\n",
    "hourwise_sale"
   ]
  },
  {
   "cell_type": "code",
   "execution_count": 36,
   "metadata": {},
   "outputs": [
    {
     "name": "stderr",
     "output_type": "stream",
     "text": [
      "/home/abhisek/snap/jupyter/common/lib/python3.7/site-packages/seaborn/_decorators.py:43: FutureWarning: Pass the following variables as keyword args: x, y. From version 0.12, the only valid positional argument will be `data`, and passing other arguments without an explicit keyword will result in an error or misinterpretation.\n",
      "  FutureWarning\n"
     ]
    },
    {
     "data": {
      "image/png": "[encoded data removed]",
      "text/plain": [
       "<Figure size 504x360 with 1 Axes>"
      ]
     },
     "metadata": {},
     "output_type": "display_data"
    }
   ],
   "source": [
    "plt.figure(figsize=(7,5))\n",
    "sns.lineplot(hourwise_sale['Hour'], hourwise_sale['Total_Price'])\n",
    "\n",
    "plt.xlabel(\"Sale Hours\", fontweight='bold')\n",
    "plt.ylabel(\"Total Sales\", fontweight='bold')\n",
    "plt.show()"
   ]
  },
  {
   "cell_type": "markdown",
   "metadata": {},
   "source": [
    "Maximum number  of orders took place at 11 and 19 O'Clock, So, we should display advertisements around that time"
   ]
  },
  {
   "cell_type": "markdown",
   "metadata": {},
   "source": [
    "## Question #4: What products are most often sold together? "
   ]
  },
  {
   "cell_type": "code",
   "execution_count": 37,
   "metadata": {},
   "outputs": [
    {
     "data": {
      "text/html": [
       "<div><div id=413ce30c-d926-4184-9605-d13d70355406 style=\"display:none; background-color:#9D6CFF; color:white; width:200px; height:30px; padding-left:5px; border-radius:4px; flex-direction:row; justify-content:space-around; align-items:center;\" onmouseover=\"this.style.backgroundColor='#BA9BF8'\" onmouseout=\"this.style.backgroundColor='#9D6CFF'\" onclick=\"window.commands?.execute('create-mitosheet-from-dataframe-output');\">See Full Dataframe in Mito</div> <script> if (window.commands.hasCommand('create-mitosheet-from-dataframe-output')) document.getElementById('413ce30c-d926-4184-9605-d13d70355406').style.display = 'flex' </script> <table border=\"1\" class=\"dataframe\">\n",
       "  <thead>\n",
       "    <tr style=\"text-align: right;\">\n",
       "      <th></th>\n",
       "      <th>ID</th>\n",
       "      <th>Product</th>\n",
       "      <th>Quantity_Ordered</th>\n",
       "      <th>Price_Each</th>\n",
       "      <th>Order_Date</th>\n",
       "      <th>Address</th>\n",
       "      <th>Sale_Month</th>\n",
       "      <th>Total_Price</th>\n",
       "      <th>City</th>\n",
       "      <th>Hour</th>\n",
       "    </tr>\n",
       "  </thead>\n",
       "  <tbody>\n",
       "    <tr>\n",
       "      <th>0</th>\n",
       "      <td>150502</td>\n",
       "      <td>iPhone</td>\n",
       "      <td>1</td>\n",
       "      <td>700.00</td>\n",
       "      <td>2019-02-18 01:35:00</td>\n",
       "      <td>866 Spruce St, Portland, ME 04101</td>\n",
       "      <td>2</td>\n",
       "      <td>700.00</td>\n",
       "      <td>Portland ME</td>\n",
       "      <td>1</td>\n",
       "    </tr>\n",
       "    <tr>\n",
       "      <th>1</th>\n",
       "      <td>150503</td>\n",
       "      <td>AA Batteries (4-pack)</td>\n",
       "      <td>1</td>\n",
       "      <td>3.84</td>\n",
       "      <td>2019-02-13 07:24:00</td>\n",
       "      <td>18 13th St, San Francisco, CA 94016</td>\n",
       "      <td>2</td>\n",
       "      <td>3.84</td>\n",
       "      <td>San Francisco CA</td>\n",
       "      <td>7</td>\n",
       "    </tr>\n",
       "    <tr>\n",
       "      <th>2</th>\n",
       "      <td>150504</td>\n",
       "      <td>27in 4K Gaming Monitor</td>\n",
       "      <td>1</td>\n",
       "      <td>389.99</td>\n",
       "      <td>2019-02-18 09:46:00</td>\n",
       "      <td>52 6th St, New York City, NY 10001</td>\n",
       "      <td>2</td>\n",
       "      <td>389.99</td>\n",
       "      <td>New York City NY</td>\n",
       "      <td>9</td>\n",
       "    </tr>\n",
       "    <tr>\n",
       "      <th>3</th>\n",
       "      <td>150505</td>\n",
       "      <td>Lightning Charging Cable</td>\n",
       "      <td>1</td>\n",
       "      <td>14.95</td>\n",
       "      <td>2019-02-02 16:47:00</td>\n",
       "      <td>129 Cherry St, Atlanta, GA 30301</td>\n",
       "      <td>2</td>\n",
       "      <td>14.95</td>\n",
       "      <td>Atlanta GA</td>\n",
       "      <td>16</td>\n",
       "    </tr>\n",
       "    <tr>\n",
       "      <th>4</th>\n",
       "      <td>150506</td>\n",
       "      <td>AA Batteries (4-pack)</td>\n",
       "      <td>2</td>\n",
       "      <td>3.84</td>\n",
       "      <td>2019-02-28 20:32:00</td>\n",
       "      <td>548 Lincoln St, Seattle, WA 98101</td>\n",
       "      <td>2</td>\n",
       "      <td>7.68</td>\n",
       "      <td>Seattle WA</td>\n",
       "      <td>20</td>\n",
       "    </tr>\n",
       "  </tbody>\n",
       "</table></div>"
      ],
      "text/plain": [
       "       ID                   Product  Quantity_Ordered  Price_Each  \\\n",
       "0  150502                    iPhone                 1      700.00   \n",
       "1  150503     AA Batteries (4-pack)                 1        3.84   \n",
       "2  150504    27in 4K Gaming Monitor                 1      389.99   \n",
       "3  150505  Lightning Charging Cable                 1       14.95   \n",
       "4  150506     AA Batteries (4-pack)                 2        3.84   \n",
       "\n",
       "           Order_Date                              Address  Sale_Month  \\\n",
       "0 2019-02-18 01:35:00    866 Spruce St, Portland, ME 04101           2   \n",
       "1 2019-02-13 07:24:00  18 13th St, San Francisco, CA 94016           2   \n",
       "2 2019-02-18 09:46:00   52 6th St, New York City, NY 10001           2   \n",
       "3 2019-02-02 16:47:00     129 Cherry St, Atlanta, GA 30301           2   \n",
       "4 2019-02-28 20:32:00    548 Lincoln St, Seattle, WA 98101           2   \n",
       "\n",
       "   Total_Price               City  Hour  \n",
       "0       700.00        Portland ME     1  \n",
       "1         3.84   San Francisco CA     7  \n",
       "2       389.99   New York City NY     9  \n",
       "3        14.95         Atlanta GA    16  \n",
       "4         7.68         Seattle WA    20  "
      ]
     },
     "execution_count": 37,
     "metadata": {},
     "output_type": "execute_result"
    }
   ],
   "source": [
    "data.head()"
   ]
  },
  {
   "cell_type": "markdown",
   "metadata": {},
   "source": [
    "product that sold together will have same ID"
   ]
  },
  {
   "cell_type": "code",
   "execution_count": 45,
   "metadata": {},
   "outputs": [
    {
     "data": {
      "text/html": [
       "<div><div id=8a8abde2-9ba9-44df-b7ec-7b42adea0b6c style=\"display:none; background-color:#9D6CFF; color:white; width:200px; height:30px; padding-left:5px; border-radius:4px; flex-direction:row; justify-content:space-around; align-items:center;\" onmouseover=\"this.style.backgroundColor='#BA9BF8'\" onmouseout=\"this.style.backgroundColor='#9D6CFF'\" onclick=\"window.commands?.execute('create-mitosheet-from-dataframe-output');\">See Full Dataframe in Mito</div> <script> if (window.commands.hasCommand('create-mitosheet-from-dataframe-output')) document.getElementById('8a8abde2-9ba9-44df-b7ec-7b42adea0b6c').style.display = 'flex' </script> <table border=\"1\" class=\"dataframe\">\n",
       "  <thead>\n",
       "    <tr style=\"text-align: right;\">\n",
       "      <th></th>\n",
       "      <th>ID</th>\n",
       "      <th>Product</th>\n",
       "    </tr>\n",
       "  </thead>\n",
       "  <tbody>\n",
       "    <tr>\n",
       "      <th>16</th>\n",
       "      <td>150518</td>\n",
       "      <td>Macbook Pro Laptop</td>\n",
       "    </tr>\n",
       "    <tr>\n",
       "      <th>17</th>\n",
       "      <td>150518</td>\n",
       "      <td>iPhone</td>\n",
       "    </tr>\n",
       "    <tr>\n",
       "      <th>82</th>\n",
       "      <td>150582</td>\n",
       "      <td>iPhone</td>\n",
       "    </tr>\n",
       "    <tr>\n",
       "      <th>83</th>\n",
       "      <td>150582</td>\n",
       "      <td>Lightning Charging Cable</td>\n",
       "    </tr>\n",
       "    <tr>\n",
       "      <th>91</th>\n",
       "      <td>150590</td>\n",
       "      <td>Apple Airpods Headphones</td>\n",
       "    </tr>\n",
       "    <tr>\n",
       "      <th>...</th>\n",
       "      <td>...</td>\n",
       "      <td>...</td>\n",
       "    </tr>\n",
       "    <tr>\n",
       "      <th>11628</th>\n",
       "      <td>259303</td>\n",
       "      <td>AA Batteries (4-pack)</td>\n",
       "    </tr>\n",
       "    <tr>\n",
       "      <th>11639</th>\n",
       "      <td>259314</td>\n",
       "      <td>Wired Headphones</td>\n",
       "    </tr>\n",
       "    <tr>\n",
       "      <th>11640</th>\n",
       "      <td>259314</td>\n",
       "      <td>AAA Batteries (4-pack)</td>\n",
       "    </tr>\n",
       "    <tr>\n",
       "      <th>11677</th>\n",
       "      <td>259350</td>\n",
       "      <td>Google Phone</td>\n",
       "    </tr>\n",
       "    <tr>\n",
       "      <th>11678</th>\n",
       "      <td>259350</td>\n",
       "      <td>USB-C Charging Cable</td>\n",
       "    </tr>\n",
       "  </tbody>\n",
       "</table></div>"
      ],
      "text/plain": [
       "           ID                   Product\n",
       "16     150518        Macbook Pro Laptop\n",
       "17     150518                    iPhone\n",
       "82     150582                    iPhone\n",
       "83     150582  Lightning Charging Cable\n",
       "91     150590  Apple Airpods Headphones\n",
       "...       ...                       ...\n",
       "11628  259303     AA Batteries (4-pack)\n",
       "11639  259314          Wired Headphones\n",
       "11640  259314    AAA Batteries (4-pack)\n",
       "11677  259350              Google Phone\n",
       "11678  259350      USB-C Charging Cable\n",
       "\n",
       "[14649 rows x 2 columns]"
      ]
     },
     "execution_count": 45,
     "metadata": {},
     "output_type": "execute_result"
    }
   ],
   "source": [
    "dup = data[data['ID'].duplicated(keep=False)][['ID','Product']]\n",
    "dup"
   ]
  },
  {
   "cell_type": "code",
   "execution_count": 53,
   "metadata": {},
   "outputs": [
    {
     "data": {
      "text/plain": [
       "(14649, 2)"
      ]
     },
     "execution_count": 53,
     "metadata": {},
     "output_type": "execute_result"
    }
   ],
   "source": [
    "dup.shape"
   ]
  },
  {
   "cell_type": "code",
   "execution_count": 75,
   "metadata": {},
   "outputs": [
    {
     "data": {
      "text/plain": [
       "ID\n",
       "141275              USB-C Charging Cable,Wired Headphones\n",
       "141290     Apple Airpods Headphones,AA Batteries (4-pack)\n",
       "141365                   Vareebadd Phone,Wired Headphones\n",
       "141384                  Google Phone,USB-C Charging Cable\n",
       "141450            Google Phone,Bose SoundSport Headphones\n",
       "                               ...                       \n",
       "319536                Macbook Pro Laptop,Wired Headphones\n",
       "319556                      Google Phone,Wired Headphones\n",
       "319584                            iPhone,Wired Headphones\n",
       "319596                    iPhone,Lightning Charging Cable\n",
       "319631    34in Ultrawide Monitor,Lightning Charging Cable\n",
       "Length: 7136, dtype: object"
      ]
     },
     "execution_count": 75,
     "metadata": {},
     "output_type": "execute_result"
    }
   ],
   "source": [
    "df = dup.groupby('ID').apply(lambda x: ','.join(x['Product'].values))\n",
    "df"
   ]
  },
  {
   "cell_type": "code",
   "execution_count": 59,
   "metadata": {},
   "outputs": [
    {
     "data": {
      "text/plain": [
       "(185950, 10)"
      ]
     },
     "execution_count": 59,
     "metadata": {},
     "output_type": "execute_result"
    }
   ],
   "source": [
    "data.shape"
   ]
  },
  {
   "cell_type": "code",
   "execution_count": 62,
   "metadata": {},
   "outputs": [
    {
     "data": {
      "text/plain": [
       "16                             Macbook Pro Laptop,iPhone\n",
       "17                             Macbook Pro Laptop,iPhone\n",
       "82                       iPhone,Lightning Charging Cable\n",
       "83                       iPhone,Lightning Charging Cable\n",
       "91       Apple Airpods Headphones,AAA Batteries (4-pack)\n",
       "                              ...                       \n",
       "11628       34in Ultrawide Monitor,AA Batteries (4-pack)\n",
       "11639            Wired Headphones,AAA Batteries (4-pack)\n",
       "11640            Wired Headphones,AAA Batteries (4-pack)\n",
       "11677                  Google Phone,USB-C Charging Cable\n",
       "11678                  Google Phone,USB-C Charging Cable\n",
       "Name: Product, Length: 14649, dtype: object"
      ]
     },
     "execution_count": 62,
     "metadata": {},
     "output_type": "execute_result"
    }
   ],
   "source": [
    "df = dup.groupby('ID')['Product'].transform(lambda x: ','.join(x))\n",
    "df"
   ]
  },
  {
   "cell_type": "code",
   "execution_count": 63,
   "metadata": {},
   "outputs": [],
   "source": [
    "from itertools import combinations\n",
    "from collections import Counter"
   ]
  },
  {
   "cell_type": "code",
   "execution_count": 76,
   "metadata": {
    "scrolled": true
   },
   "outputs": [
    {
     "name": "stdout",
     "output_type": "stream",
     "text": [
      "('iPhone', 'Lightning Charging Cable') 1005\n",
      "('Google Phone', 'USB-C Charging Cable') 987\n",
      "('iPhone', 'Wired Headphones') 447\n",
      "('Google Phone', 'Wired Headphones') 414\n",
      "('Vareebadd Phone', 'USB-C Charging Cable') 361\n",
      "('iPhone', 'Apple Airpods Headphones') 360\n",
      "('Google Phone', 'Bose SoundSport Headphones') 220\n",
      "('USB-C Charging Cable', 'Wired Headphones') 160\n",
      "('Vareebadd Phone', 'Wired Headphones') 143\n",
      "('Lightning Charging Cable', 'Wired Headphones') 92\n"
     ]
    }
   ],
   "source": [
    "count = Counter()\n",
    "for row in df:\n",
    "    row_list = row.split(',')\n",
    "    count.update(Counter(combinations(row_list, 2)))\n",
    "\n",
    "for key, value in count.most_common(10):\n",
    "    print(key, value)"
   ]
  },
  {
   "cell_type": "markdown",
   "metadata": {},
   "source": [
    "## Question #5: What product sold the most? Why do you think it did?"
   ]
  },
  {
   "cell_type": "code",
   "execution_count": 83,
   "metadata": {},
   "outputs": [
    {
     "data": {
      "text/plain": [
       "Product\n",
       "20in Monitor                   4101\n",
       "27in 4K Gaming Monitor         6230\n",
       "27in FHD Monitor               7507\n",
       "34in Ultrawide Monitor         6181\n",
       "AA Batteries (4-pack)         20577\n",
       "AAA Batteries (4-pack)        20641\n",
       "Apple Airpods Headphones      15549\n",
       "Bose SoundSport Headphones    13325\n",
       "Flatscreen TV                  4800\n",
       "Google Phone                   5525\n",
       "LG Dryer                        646\n",
       "LG Washing Machine              666\n",
       "Lightning Charging Cable      21658\n",
       "Macbook Pro Laptop             4724\n",
       "ThinkPad Laptop                4128\n",
       "USB-C Charging Cable          21903\n",
       "Vareebadd Phone                2065\n",
       "Wired Headphones              18882\n",
       "iPhone                         6842\n",
       "Name: ID, dtype: int64"
      ]
     },
     "execution_count": 83,
     "metadata": {},
     "output_type": "execute_result"
    }
   ],
   "source": [
    "productwise_count = data.groupby('Product')['ID'].count()\n",
    "productwise_count"
   ]
  },
  {
   "cell_type": "code",
   "execution_count": 120,
   "metadata": {},
   "outputs": [
    {
     "name": "stderr",
     "output_type": "stream",
     "text": [
      "/snap/jupyter/6/lib/python3.7/site-packages/ipykernel_launcher.py:9: UserWarning: FixedFormatter should only be used together with FixedLocator\n",
      "  if __name__ == '__main__':\n"
     ]
    },
    {
     "data": {
      "image/png": "[encoded data removed]",
      "text/plain": [
       "<Figure size 1080x432 with 2 Axes>"
      ]
     },
     "metadata": {},
     "output_type": "display_data"
    }
   ],
   "source": [
    "fig, ax1 = plt.subplots(figsize=(15,6))\n",
    "ax2 = ax1.twinx()\n",
    "ax1.bar(x=productwise_count.index, height=productwise_count.values, color='green')\n",
    "ax1.set_ylabel('Count', color='green', fontweight='bold')\n",
    "ax1.set_xlabel('Product', fontweight='bold')\n",
    "\n",
    "ax2.plot(productwise_count.index, avg_price.values, color='blue')\n",
    "\n",
    "ax1.set_xticklabels(labels=productwise_count.index, rotation=90)\n",
    "ax2.set_ylabel('avg price', color='blue', fontweight='bold')\n",
    "plt.show()"
   ]
  },
  {
   "cell_type": "markdown",
   "metadata": {},
   "source": [
    "for most of the products, the number of salses are higher if price of the product is lower"
   ]
  },
  {
   "cell_type": "code",
   "execution_count": 91,
   "metadata": {},
   "outputs": [
    {
     "data": {
      "text/plain": [
       "Product\n",
       "20in Monitor                   109.99\n",
       "27in 4K Gaming Monitor         389.99\n",
       "27in FHD Monitor               149.99\n",
       "34in Ultrawide Monitor         379.99\n",
       "AA Batteries (4-pack)            3.84\n",
       "AAA Batteries (4-pack)           2.99\n",
       "Apple Airpods Headphones       150.00\n",
       "Bose SoundSport Headphones      99.99\n",
       "Flatscreen TV                  300.00\n",
       "Google Phone                   600.00\n",
       "LG Dryer                       600.00\n",
       "LG Washing Machine             600.00\n",
       "Lightning Charging Cable        14.95\n",
       "Macbook Pro Laptop            1700.00\n",
       "ThinkPad Laptop                999.99\n",
       "USB-C Charging Cable            11.95\n",
       "Vareebadd Phone                400.00\n",
       "Wired Headphones                11.99\n",
       "iPhone                         700.00\n",
       "Name: Price_Each, dtype: float64"
      ]
     },
     "execution_count": 91,
     "metadata": {},
     "output_type": "execute_result"
    }
   ],
   "source": [
    "avg_price = data.groupby('Product')['Price_Each'].apply(lambda x: np.average(x))\n",
    "avg_price"
   ]
  },
  {
   "cell_type": "code",
   "execution_count": 121,
   "metadata": {},
   "outputs": [
    {
     "data": {
      "image/png": "[encoded data removed]",
      "text/plain": [
       "<Figure size 864x360 with 1 Axes>"
      ]
     },
     "metadata": {},
     "output_type": "display_data"
    }
   ],
   "source": [
    "plt.figure(figsize=(12,5))\n",
    "plt.plot(avg_price.index, avg_price.values)\n",
    "plt.xlabel(\"Product\", fontweight='bold')\n",
    "plt.ylabel(\"Avg Price\", fontweight='bold')\n",
    "plt.xticks(rotation=90)\n",
    "plt.show()"
   ]
  },
  {
   "cell_type": "markdown",
   "metadata": {},
   "source": [
    "Question #4: What products are most often sold together?"
   ]
  },
  {
   "cell_type": "code",
   "execution_count": 130,
   "metadata": {},
   "outputs": [
    {
     "data": {
      "text/html": [
       "<div><div id=805acfec-d549-429d-87e1-ef41a605a458 style=\"display:none; background-color:#9D6CFF; color:white; width:200px; height:30px; padding-left:5px; border-radius:4px; flex-direction:row; justify-content:space-around; align-items:center;\" onmouseover=\"this.style.backgroundColor='#BA9BF8'\" onmouseout=\"this.style.backgroundColor='#9D6CFF'\" onclick=\"window.commands?.execute('create-mitosheet-from-dataframe-output');\">See Full Dataframe in Mito</div> <script> if (window.commands.hasCommand('create-mitosheet-from-dataframe-output')) document.getElementById('805acfec-d549-429d-87e1-ef41a605a458').style.display = 'flex' </script> <table border=\"1\" class=\"dataframe\">\n",
       "  <thead>\n",
       "    <tr style=\"text-align: right;\">\n",
       "      <th></th>\n",
       "      <th>ID</th>\n",
       "      <th>Product</th>\n",
       "      <th>Quantity_Ordered</th>\n",
       "      <th>Price_Each</th>\n",
       "      <th>Order_Date</th>\n",
       "      <th>Address</th>\n",
       "      <th>Sale_Month</th>\n",
       "      <th>Total_Price</th>\n",
       "      <th>City</th>\n",
       "      <th>Hour</th>\n",
       "    </tr>\n",
       "  </thead>\n",
       "  <tbody>\n",
       "    <tr>\n",
       "      <th>16</th>\n",
       "      <td>150518</td>\n",
       "      <td>Macbook Pro Laptop</td>\n",
       "      <td>1</td>\n",
       "      <td>1700.00</td>\n",
       "      <td>2019-02-26 12:38:00</td>\n",
       "      <td>847 10th St, San Francisco, CA 94016</td>\n",
       "      <td>2</td>\n",
       "      <td>1700.00</td>\n",
       "      <td>San Francisco CA</td>\n",
       "      <td>12</td>\n",
       "    </tr>\n",
       "    <tr>\n",
       "      <th>17</th>\n",
       "      <td>150518</td>\n",
       "      <td>iPhone</td>\n",
       "      <td>1</td>\n",
       "      <td>700.00</td>\n",
       "      <td>2019-02-26 12:38:00</td>\n",
       "      <td>847 10th St, San Francisco, CA 94016</td>\n",
       "      <td>2</td>\n",
       "      <td>700.00</td>\n",
       "      <td>San Francisco CA</td>\n",
       "      <td>12</td>\n",
       "    </tr>\n",
       "    <tr>\n",
       "      <th>82</th>\n",
       "      <td>150582</td>\n",
       "      <td>iPhone</td>\n",
       "      <td>1</td>\n",
       "      <td>700.00</td>\n",
       "      <td>2019-02-16 23:38:00</td>\n",
       "      <td>678 Maple St, Seattle, WA 98101</td>\n",
       "      <td>2</td>\n",
       "      <td>700.00</td>\n",
       "      <td>Seattle WA</td>\n",
       "      <td>23</td>\n",
       "    </tr>\n",
       "    <tr>\n",
       "      <th>83</th>\n",
       "      <td>150582</td>\n",
       "      <td>Lightning Charging Cable</td>\n",
       "      <td>1</td>\n",
       "      <td>14.95</td>\n",
       "      <td>2019-02-16 23:38:00</td>\n",
       "      <td>678 Maple St, Seattle, WA 98101</td>\n",
       "      <td>2</td>\n",
       "      <td>14.95</td>\n",
       "      <td>Seattle WA</td>\n",
       "      <td>23</td>\n",
       "    </tr>\n",
       "    <tr>\n",
       "      <th>91</th>\n",
       "      <td>150590</td>\n",
       "      <td>Apple Airpods Headphones</td>\n",
       "      <td>1</td>\n",
       "      <td>150.00</td>\n",
       "      <td>2019-02-08 09:35:00</td>\n",
       "      <td>196 River St, San Francisco, CA 94016</td>\n",
       "      <td>2</td>\n",
       "      <td>150.00</td>\n",
       "      <td>San Francisco CA</td>\n",
       "      <td>9</td>\n",
       "    </tr>\n",
       "    <tr>\n",
       "      <th>...</th>\n",
       "      <td>...</td>\n",
       "      <td>...</td>\n",
       "      <td>...</td>\n",
       "      <td>...</td>\n",
       "      <td>...</td>\n",
       "      <td>...</td>\n",
       "      <td>...</td>\n",
       "      <td>...</td>\n",
       "      <td>...</td>\n",
       "      <td>...</td>\n",
       "    </tr>\n",
       "    <tr>\n",
       "      <th>11628</th>\n",
       "      <td>259303</td>\n",
       "      <td>AA Batteries (4-pack)</td>\n",
       "      <td>1</td>\n",
       "      <td>3.84</td>\n",
       "      <td>2019-09-20 20:18:00</td>\n",
       "      <td>106 7th St, Atlanta, GA 30301</td>\n",
       "      <td>9</td>\n",
       "      <td>3.84</td>\n",
       "      <td>Atlanta GA</td>\n",
       "      <td>20</td>\n",
       "    </tr>\n",
       "    <tr>\n",
       "      <th>11639</th>\n",
       "      <td>259314</td>\n",
       "      <td>Wired Headphones</td>\n",
       "      <td>1</td>\n",
       "      <td>11.99</td>\n",
       "      <td>2019-09-16 00:25:00</td>\n",
       "      <td>241 Highland St, Atlanta, GA 30301</td>\n",
       "      <td>9</td>\n",
       "      <td>11.99</td>\n",
       "      <td>Atlanta GA</td>\n",
       "      <td>0</td>\n",
       "    </tr>\n",
       "    <tr>\n",
       "      <th>11640</th>\n",
       "      <td>259314</td>\n",
       "      <td>AAA Batteries (4-pack)</td>\n",
       "      <td>2</td>\n",
       "      <td>2.99</td>\n",
       "      <td>2019-09-16 00:25:00</td>\n",
       "      <td>241 Highland St, Atlanta, GA 30301</td>\n",
       "      <td>9</td>\n",
       "      <td>5.98</td>\n",
       "      <td>Atlanta GA</td>\n",
       "      <td>0</td>\n",
       "    </tr>\n",
       "    <tr>\n",
       "      <th>11677</th>\n",
       "      <td>259350</td>\n",
       "      <td>Google Phone</td>\n",
       "      <td>1</td>\n",
       "      <td>600.00</td>\n",
       "      <td>2019-09-30 13:49:00</td>\n",
       "      <td>519 Maple St, San Francisco, CA 94016</td>\n",
       "      <td>9</td>\n",
       "      <td>600.00</td>\n",
       "      <td>San Francisco CA</td>\n",
       "      <td>13</td>\n",
       "    </tr>\n",
       "    <tr>\n",
       "      <th>11678</th>\n",
       "      <td>259350</td>\n",
       "      <td>USB-C Charging Cable</td>\n",
       "      <td>1</td>\n",
       "      <td>11.95</td>\n",
       "      <td>2019-09-30 13:49:00</td>\n",
       "      <td>519 Maple St, San Francisco, CA 94016</td>\n",
       "      <td>9</td>\n",
       "      <td>11.95</td>\n",
       "      <td>San Francisco CA</td>\n",
       "      <td>13</td>\n",
       "    </tr>\n",
       "  </tbody>\n",
       "</table></div>"
      ],
      "text/plain": [
       "           ID                   Product  Quantity_Ordered  Price_Each  \\\n",
       "16     150518        Macbook Pro Laptop                 1     1700.00   \n",
       "17     150518                    iPhone                 1      700.00   \n",
       "82     150582                    iPhone                 1      700.00   \n",
       "83     150582  Lightning Charging Cable                 1       14.95   \n",
       "91     150590  Apple Airpods Headphones                 1      150.00   \n",
       "...       ...                       ...               ...         ...   \n",
       "11628  259303     AA Batteries (4-pack)                 1        3.84   \n",
       "11639  259314          Wired Headphones                 1       11.99   \n",
       "11640  259314    AAA Batteries (4-pack)                 2        2.99   \n",
       "11677  259350              Google Phone                 1      600.00   \n",
       "11678  259350      USB-C Charging Cable                 1       11.95   \n",
       "\n",
       "               Order_Date                                Address  Sale_Month  \\\n",
       "16    2019-02-26 12:38:00   847 10th St, San Francisco, CA 94016           2   \n",
       "17    2019-02-26 12:38:00   847 10th St, San Francisco, CA 94016           2   \n",
       "82    2019-02-16 23:38:00        678 Maple St, Seattle, WA 98101           2   \n",
       "83    2019-02-16 23:38:00        678 Maple St, Seattle, WA 98101           2   \n",
       "91    2019-02-08 09:35:00  196 River St, San Francisco, CA 94016           2   \n",
       "...                   ...                                    ...         ...   \n",
       "11628 2019-09-20 20:18:00          106 7th St, Atlanta, GA 30301           9   \n",
       "11639 2019-09-16 00:25:00     241 Highland St, Atlanta, GA 30301           9   \n",
       "11640 2019-09-16 00:25:00     241 Highland St, Atlanta, GA 30301           9   \n",
       "11677 2019-09-30 13:49:00  519 Maple St, San Francisco, CA 94016           9   \n",
       "11678 2019-09-30 13:49:00  519 Maple St, San Francisco, CA 94016           9   \n",
       "\n",
       "       Total_Price               City  Hour  \n",
       "16         1700.00   San Francisco CA    12  \n",
       "17          700.00   San Francisco CA    12  \n",
       "82          700.00         Seattle WA    23  \n",
       "83           14.95         Seattle WA    23  \n",
       "91          150.00   San Francisco CA     9  \n",
       "...            ...                ...   ...  \n",
       "11628         3.84         Atlanta GA    20  \n",
       "11639        11.99         Atlanta GA     0  \n",
       "11640         5.98         Atlanta GA     0  \n",
       "11677       600.00   San Francisco CA    13  \n",
       "11678        11.95   San Francisco CA    13  \n",
       "\n",
       "[14649 rows x 10 columns]"
      ]
     },
     "execution_count": 130,
     "metadata": {},
     "output_type": "execute_result"
    }
   ],
   "source": [
    "dup = data[data['ID'].duplicated(keep=False)]\n",
    "dup"
   ]
  },
  {
   "cell_type": "code",
   "execution_count": 135,
   "metadata": {},
   "outputs": [
    {
     "data": {
      "text/plain": [
       "16                             Macbook Pro Laptop,iPhone\n",
       "17                             Macbook Pro Laptop,iPhone\n",
       "82                       iPhone,Lightning Charging Cable\n",
       "83                       iPhone,Lightning Charging Cable\n",
       "91       Apple Airpods Headphones,AAA Batteries (4-pack)\n",
       "                              ...                       \n",
       "11628       34in Ultrawide Monitor,AA Batteries (4-pack)\n",
       "11639            Wired Headphones,AAA Batteries (4-pack)\n",
       "11640            Wired Headphones,AAA Batteries (4-pack)\n",
       "11677                  Google Phone,USB-C Charging Cable\n",
       "11678                  Google Phone,USB-C Charging Cable\n",
       "Name: Product, Length: 14649, dtype: object"
      ]
     },
     "execution_count": 135,
     "metadata": {},
     "output_type": "execute_result"
    }
   ],
   "source": [
    "dup_items = dup.groupby('ID')['Product'].transform(lambda x: ','.join(x))\n",
    "dup_items"
   ]
  },
  {
   "cell_type": "code",
   "execution_count": 144,
   "metadata": {},
   "outputs": [
    {
     "name": "stdout",
     "output_type": "stream",
     "text": [
      "('iPhone', 'Lightning Charging Cable') 2140\n",
      "('Google Phone', 'USB-C Charging Cable') 2116\n",
      "('iPhone', 'Wired Headphones') 987\n",
      "('Google Phone', 'Wired Headphones') 949\n",
      "('iPhone', 'Apple Airpods Headphones') 799\n",
      "('Vareebadd Phone', 'USB-C Charging Cable') 773\n",
      "('Google Phone', 'Bose SoundSport Headphones') 503\n",
      "('USB-C Charging Cable', 'Wired Headphones') 452\n",
      "('Vareebadd Phone', 'Wired Headphones') 327\n",
      "('Lightning Charging Cable', 'Wired Headphones') 253\n"
     ]
    }
   ],
   "source": [
    "from itertools import combinations\n",
    "from collections import Counter\n",
    "\n",
    "count = Counter()\n",
    "for row in dup_items:\n",
    "    row_emnt = row.split(',')\n",
    "    count.update(Counter(combinations(row_emnt, 2)))\n",
    "                 \n",
    "                 \n",
    "                 \n",
    "for key, value in count.most_common(10):\n",
    "    print(key, value)"
   ]
  },
  {
   "cell_type": "code",
   "execution_count": null,
   "metadata": {},
   "outputs": [],
   "source": []
  }
 ],
 "metadata": {
  "kernelspec": {
   "display_name": "Python 3",
   "language": "python",
   "name": "python3"
  },
  "language_info": {
   "codemirror_mode": {
    "name": "ipython",
    "version": 3
   },
   "file_extension": ".py",
   "mimetype": "text/x-python",
   "name": "python",
   "nbconvert_exporter": "python",
   "pygments_lexer": "ipython3",
   "version": "3.7.3"
  }
 },
 "nbformat": 4,
 "nbformat_minor": 2
}
